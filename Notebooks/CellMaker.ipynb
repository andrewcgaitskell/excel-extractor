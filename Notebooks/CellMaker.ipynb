{
 "cells": [
  {
   "cell_type": "markdown",
   "metadata": {
    "colab_type": "text",
    "id": "view-in-github"
   },
   "source": [
    "<a href=\"https://colab.research.google.com/github/andrewcgaitskell/celldb/blob/master/CellMaker.ipynb\" target=\"_parent\"><img src=\"https://colab.research.google.com/assets/colab-badge.svg\" alt=\"Open In Colab\"/></a>"
   ]
  },
  {
   "cell_type": "markdown",
   "metadata": {
    "colab_type": "text",
    "id": "-mDz5ZTQ0x1l"
   },
   "source": []
  },
  {
   "cell_type": "markdown",
   "metadata": {
    "colab_type": "text",
    "id": "x1pvdyLtafeF"
   },
   "source": [
    "# Install Libraries"
   ]
  },
  {
   "cell_type": "code",
   "execution_count": 1,
   "metadata": {
    "colab": {},
    "colab_type": "code",
    "id": "AadAQppWP-0p"
   },
   "outputs": [],
   "source": [
    "import pandas as pd\n",
    "import numpy as np"
   ]
  },
  {
   "cell_type": "code",
   "execution_count": 2,
   "metadata": {
    "colab": {},
    "colab_type": "code",
    "id": "vr-1xOUaP-0u"
   },
   "outputs": [],
   "source": [
    "import xlsxwriter\n",
    "import xlrd\n",
    "import matplotlib"
   ]
  },
  {
   "cell_type": "markdown",
   "metadata": {
    "colab_type": "text",
    "id": "3p8PgjiP0_jY"
   },
   "source": [
    "# Introduction"
   ]
  },
  {
   "cell_type": "code",
   "execution_count": 3,
   "metadata": {
    "colab": {},
    "colab_type": "code",
    "id": "fcUz8nPa4Hh5"
   },
   "outputs": [],
   "source": [
    "from datetime import datetime\n",
    "import os"
   ]
  },
  {
   "cell_type": "code",
   "execution_count": 4,
   "metadata": {
    "colab": {
     "base_uri": "https://localhost:8080/",
     "height": 34
    },
    "colab_type": "code",
    "id": "2WPJmc-VvjJ6",
    "outputId": "b40c2859-30d2-496b-940b-1e71ba2cd80d"
   },
   "outputs": [
    {
     "name": "stdout",
     "output_type": "stream",
     "text": [
      "2024-09-25T19:55:03.565945\n"
     ]
    }
   ],
   "source": [
    "from datetime import datetime\n",
    "my_date = datetime.now()\n",
    "print(my_date.isoformat())"
   ]
  },
  {
   "cell_type": "code",
   "execution_count": 5,
   "metadata": {
    "colab": {
     "base_uri": "https://localhost:8080/",
     "height": 34
    },
    "colab_type": "code",
    "id": "g4hWXLKOv8Ko",
    "outputId": "38893a1f-6e80-4352-c9df-43ecb17a08fb"
   },
   "outputs": [
    {
     "name": "stdout",
     "output_type": "stream",
     "text": [
      "2024-09-25T19:55:03.565945\n"
     ]
    }
   ],
   "source": [
    "print(my_date.strftime('%Y-%m-%dT%H:%M:%S.%f%z'))"
   ]
  },
  {
   "cell_type": "code",
   "execution_count": 6,
   "metadata": {
    "colab": {
     "base_uri": "https://localhost:8080/",
     "height": 34
    },
    "colab_type": "code",
    "id": "tBDgMHTowFzq",
    "outputId": "a8d8ac29-343d-4629-ceac-30cd18843c36"
   },
   "outputs": [
    {
     "data": {
      "text/plain": [
       "'R20240925195503565945'"
      ]
     },
     "execution_count": 6,
     "metadata": {},
     "output_type": "execute_result"
    }
   ],
   "source": [
    "runid = \"R\" + my_date.strftime('%Y%m%d%H%M%S%f%z')\n",
    "runid"
   ]
  },
  {
   "cell_type": "code",
   "execution_count": 7,
   "metadata": {
    "colab": {
     "base_uri": "https://localhost:8080/",
     "height": 34
    },
    "colab_type": "code",
    "id": "ltPCV36nP-00",
    "outputId": "a277e9fb-dd4d-48ea-8c20-ab75d6c74fca"
   },
   "outputs": [
    {
     "name": "stdout",
     "output_type": "stream",
     "text": [
      "/home/home_user/Code/pipeline-202102/Notebooks\n"
     ]
    }
   ],
   "source": [
    "dirname = os.getcwd()\n",
    "print(dirname)"
   ]
  },
  {
   "cell_type": "code",
   "execution_count": null,
   "metadata": {
    "colab": {},
    "colab_type": "code",
    "id": "Wlg6CawSku84"
   },
   "outputs": [],
   "source": []
  },
  {
   "cell_type": "code",
   "execution_count": 17,
   "metadata": {
    "colab": {},
    "colab_type": "code",
    "id": "oK3e6oyZ5hh4"
   },
   "outputs": [
    {
     "data": {
      "text/plain": [
       "['AgeGenderSheet',\n",
       " 'HomeSheet',\n",
       " 'JobSheet',\n",
       " 'MaritalDepartmentSheet',\n",
       " 'DataMap',\n",
       " 'TemplateValidationMap',\n",
       " 'DataSet',\n",
       " 'Rules',\n",
       " 'Palette',\n",
       " 'PickList',\n",
       " 'MetaData']"
      ]
     },
     "execution_count": 17,
     "metadata": {},
     "output_type": "execute_result"
    }
   ],
   "source": [
    "import io\n",
    "filedf = pd.read_excel(\"Data.xlsx\",sheet_name=None, header=None)\n",
    "sheetnames = list(filedf.keys())\n",
    "sheetnames"
   ]
  },
  {
   "cell_type": "code",
   "execution_count": 28,
   "metadata": {},
   "outputs": [],
   "source": [
    "data_json = dict()\n",
    "for sn in sheetnames:\n",
    "    sheet_json = filedf[sn].to_json(path_or_buf=None,\n",
    "                                      orient='records',\n",
    "                                      date_format='iso',\n",
    "                                      double_precision=10,\n",
    "                                      force_ascii=True,\n",
    "                                      date_unit='ms',\n",
    "                                      default_handler=None,\n",
    "                                      lines=False,\n",
    "                                      compression='infer',\n",
    "                                      index=None, indent=None,\n",
    "                                      storage_options=None, mode='w')\n",
    "    data_json[sn] = sheet_json"
   ]
  },
  {
   "cell_type": "code",
   "execution_count": 46,
   "metadata": {},
   "outputs": [
    {
     "data": {
      "text/plain": [
       "{'AgeGenderSheet': '[{\"0\":null,\"1\":null,\"2\":null,\"3\":null,\"4\":null},{\"0\":null,\"1\":null,\"2\":null,\"3\":null,\"4\":null},{\"0\":null,\"1\":null,\"2\":null,\"3\":null,\"4\":null},{\"0\":null,\"1\":null,\"2\":null,\"3\":null,\"4\":null},{\"0\":null,\"1\":\"Age Table\",\"2\":null,\"3\":null,\"4\":null},{\"0\":null,\"1\":null,\"2\":\"Name\",\"3\":\"Age\",\"4\":null},{\"0\":null,\"1\":null,\"2\":\"Paul\",\"3\":-52,\"4\":null},{\"0\":null,\"1\":null,\"2\":\"Ringo\",\"3\":22,\"4\":null},{\"0\":null,\"1\":null,\"2\":\"Brian\",\"3\":89,\"4\":null},{\"0\":null,\"1\":null,\"2\":null,\"3\":null,\"4\":null},{\"0\":null,\"1\":null,\"2\":null,\"3\":null,\"4\":null},{\"0\":null,\"1\":null,\"2\":null,\"3\":null,\"4\":null},{\"0\":null,\"1\":null,\"2\":null,\"3\":null,\"4\":null},{\"0\":null,\"1\":null,\"2\":null,\"3\":\"Gender Table\",\"4\":null},{\"0\":null,\"1\":null,\"2\":null,\"3\":\"Name\",\"4\":\"Gender\"},{\"0\":null,\"1\":null,\"2\":null,\"3\":\"Paul\",\"4\":\"Male\"},{\"0\":null,\"1\":null,\"2\":null,\"3\":\"Ringo\",\"4\":\"Prefer not to say\"},{\"0\":null,\"1\":null,\"2\":null,\"3\":\"Brian\",\"4\":\"Male\"},{\"0\":null,\"1\":null,\"2\":null,\"3\":null,\"4\":null},{\"0\":null,\"1\":null,\"2\":null,\"3\":null,\"4\":null},{\"0\":null,\"1\":null,\"2\":null,\"3\":null,\"4\":null},{\"0\":null,\"1\":null,\"2\":null,\"3\":null,\"4\":null},{\"0\":\"DOB Table\",\"1\":null,\"2\":null,\"3\":null,\"4\":null},{\"0\":\"Name\",\"1\":\"D.O.B\",\"2\":null,\"3\":null,\"4\":null},{\"0\":\"Paul\",\"1\":\"1955-07-01T00:00:00.000\",\"2\":null,\"3\":null,\"4\":null},{\"0\":\"Ringo\",\"1\":\"1996-01-09T00:00:00.000\",\"2\":null,\"3\":null,\"4\":null},{\"0\":\"Brian\",\"1\":\"7th Aug 28\",\"2\":null,\"3\":null,\"4\":null}]',\n",
       " 'HomeSheet': '[{\"0\":null,\"1\":null},{\"0\":null,\"1\":null},{\"0\":null,\"1\":null},{\"0\":null,\"1\":null},{\"0\":null,\"1\":null},{\"0\":null,\"1\":null},{\"0\":null,\"1\":null},{\"0\":\"Home Location Table\",\"1\":null},{\"0\":\"Employee\",\"1\":\"Location\"},{\"0\":\"Brian\",\"1\":\"London\"},{\"0\":\"Ringo\",\"1\":\"Liverpool\"},{\"0\":\"Paul\",\"1\":\"Blackpool\"}]',\n",
       " 'JobSheet': '[{\"0\":null,\"1\":null,\"2\":null,\"3\":null,\"4\":null},{\"0\":null,\"1\":null,\"2\":null,\"3\":null,\"4\":null},{\"0\":null,\"1\":null,\"2\":null,\"3\":null,\"4\":null},{\"0\":null,\"1\":null,\"2\":null,\"3\":null,\"4\":null},{\"0\":null,\"1\":null,\"2\":null,\"3\":null,\"4\":null},{\"0\":null,\"1\":null,\"2\":\"Job Description Table\",\"3\":null,\"4\":null},{\"0\":null,\"1\":null,\"2\":\"Job Title\",\"3\":\"Employee Name\",\"4\":\"ID\"},{\"0\":null,\"1\":null,\"2\":\"Production Manager\",\"3\":\"Paul\",\"4\":\"A\"},{\"0\":null,\"1\":null,\"2\":\"Programmer\",\"3\":\"Ringo\",\"4\":1},{\"0\":null,\"1\":null,\"2\":\"Accountant\",\"3\":\"Brian\",\"4\":2}]',\n",
       " 'MaritalDepartmentSheet': '[{\"0\":null,\"1\":null,\"2\":null,\"3\":null,\"4\":null,\"5\":null},{\"0\":null,\"1\":null,\"2\":null,\"3\":null,\"4\":\"Department Table\",\"5\":null},{\"0\":\"Marital Status Table\",\"1\":null,\"2\":null,\"3\":null,\"4\":\"Name\",\"5\":\"Department\"},{\"0\":\"Name\",\"1\":\"Status\",\"2\":null,\"3\":null,\"4\":\"Paul\",\"5\":\"Production\"},{\"0\":\"Paul\",\"1\":\"Married\",\"2\":null,\"3\":null,\"4\":\"Ringo\",\"5\":\"IT\"},{\"0\":\"Ringo\",\"1\":\"Civil Partnership\",\"2\":null,\"3\":null,\"4\":\"Brian\",\"5\":\"Accounts\"},{\"0\":\"Brian\",\"1\":\"Single\",\"2\":null,\"3\":null,\"4\":null,\"5\":null}]',\n",
       " 'DataMap': '[{\"0\":\"SheetName\",\"1\":\"ReferenceText\",\"2\":\"RowFromReferenceText\",\"3\":\"ColumnFromReferenceText\",\"4\":\"TemplateText\",\"5\":\"DataGroup\",\"6\":\"DataCategory\",\"7\":\"DataScope\",\"8\":\"FieldID\",\"9\":\"Column Header\",\"10\":\"DataSetID\"},{\"0\":\"AgeGenderSheet\",\"1\":\"Age Table\",\"2\":2,\"3\":1,\"4\":\"Name\",\"5\":\"Ages\",\"6\":null,\"7\":null,\"8\":\"Name\",\"9\":\"Name\",\"10\":\"Ages\"},{\"0\":\"AgeGenderSheet\",\"1\":\"Age Table\",\"2\":2,\"3\":2,\"4\":\"Age\",\"5\":\"Ages\",\"6\":null,\"7\":null,\"8\":\"Age\",\"9\":\"Age\",\"10\":\"Ages\"},{\"0\":\"AgeGenderSheet\",\"1\":\"Gender Table\",\"2\":2,\"3\":0,\"4\":\"Name\",\"5\":\"Genders\",\"6\":null,\"7\":null,\"8\":\"Name\",\"9\":\"Name\",\"10\":\"Genders\"},{\"0\":\"AgeGenderSheet\",\"1\":\"Gender Table\",\"2\":2,\"3\":1,\"4\":\"Gender\",\"5\":\"Genders\",\"6\":null,\"7\":null,\"8\":\"Gender\",\"9\":\"Gender\",\"10\":\"Genders\"},{\"0\":\"AgeGenderSheet\",\"1\":\"DOB Table\",\"2\":2,\"3\":0,\"4\":\"Name\",\"5\":\"DoB\",\"6\":null,\"7\":null,\"8\":\"Name\",\"9\":\"Name\",\"10\":\"DoB\"},{\"0\":\"AgeGenderSheet\",\"1\":\"DOB Table\",\"2\":2,\"3\":1,\"4\":\"D.O.B\",\"5\":\"DoB\",\"6\":null,\"7\":null,\"8\":\"DoB\",\"9\":\"D.O.B\",\"10\":\"DoB\"},{\"0\":\"MaritalDepartmentSheet\",\"1\":\"Marital Status Table\",\"2\":2,\"3\":0,\"4\":\"Name\",\"5\":\"Marital Status\",\"6\":null,\"7\":null,\"8\":\"Name\",\"9\":\"Name\",\"10\":\"MaritalStatus\"},{\"0\":\"MaritalDepartmentSheet\",\"1\":\"Marital Status Table\",\"2\":2,\"3\":1,\"4\":\"Status\",\"5\":\"Marital Status\",\"6\":null,\"7\":null,\"8\":\"Status\",\"9\":\"Status\",\"10\":\"MaritalStatus\"},{\"0\":\"MaritalDepartmentSheet\",\"1\":\"Department Table\",\"2\":2,\"3\":0,\"4\":\"Name\",\"5\":\"Department\",\"6\":null,\"7\":null,\"8\":\"Name\",\"9\":\"Name\",\"10\":\"Department\"},{\"0\":\"MaritalDepartmentSheet\",\"1\":\"Department Table\",\"2\":2,\"3\":1,\"4\":\"Department\",\"5\":\"Department\",\"6\":null,\"7\":null,\"8\":\"Department\",\"9\":\"Department\",\"10\":\"Department\"},{\"0\":\"JobSheet\",\"1\":\"Job Description Table\",\"2\":2,\"3\":0,\"4\":\"Job Title\",\"5\":\"Jobs\",\"6\":null,\"7\":null,\"8\":\"Job_Title\",\"9\":\"Job Title\",\"10\":\"Jobs\"},{\"0\":\"JobSheet\",\"1\":\"Job Description Table\",\"2\":2,\"3\":1,\"4\":\"Employee Name\",\"5\":\"Jobs\",\"6\":null,\"7\":null,\"8\":\"Employee_Name\",\"9\":\"Employee Name\",\"10\":\"Jobs\"},{\"0\":\"JobSheet\",\"1\":\"Job Description Table\",\"2\":2,\"3\":2,\"4\":\"ID\",\"5\":\"Jobs\",\"6\":null,\"7\":null,\"8\":\"ID\",\"9\":\"ID\",\"10\":\"Jobs\"},{\"0\":\"HomeSheet\",\"1\":\"Home Location Table\",\"2\":2,\"3\":0,\"4\":\"Employee\",\"5\":\"Home Location\",\"6\":null,\"7\":null,\"8\":\"Employee\",\"9\":\"Employee\",\"10\":\"HomeLocation\"},{\"0\":\"HomeSheet\",\"1\":\"Home Location Table\",\"2\":2,\"3\":1,\"4\":\"Location\",\"5\":\"Home Location\",\"6\":null,\"7\":null,\"8\":\"Location\",\"9\":\"Location\",\"10\":\"HomeLocation\"}]',\n",
       " 'TemplateValidationMap': '[{\"0\":\"SheetName\",\"1\":\"DataSetID\",\"2\":\"ReferenceText\",\"3\":\"RowFromReferenceText\",\"4\":\"ColumnFromReferenceText\",\"5\":\"TemplateText\"},{\"0\":\"AgeGenderSheet\",\"1\":\"Ages\",\"2\":\"Age Table\",\"3\":0,\"4\":0,\"5\":\"Age Table\"},{\"0\":\"AgeGenderSheet\",\"1\":\"Ages\",\"2\":\"Age Table\",\"3\":1,\"4\":1,\"5\":\"Name\"},{\"0\":\"AgeGenderSheet\",\"1\":\"Ages\",\"2\":\"Age Table\",\"3\":1,\"4\":2,\"5\":\"Age\"},{\"0\":\"AgeGenderSheet\",\"1\":\"Genders\",\"2\":\"Gender Table\",\"3\":0,\"4\":0,\"5\":\"Gender Table\"},{\"0\":\"AgeGenderSheet\",\"1\":\"Genders\",\"2\":\"Gender Table\",\"3\":1,\"4\":0,\"5\":\"Name\"},{\"0\":\"AgeGenderSheet\",\"1\":\"Genders\",\"2\":\"Gender Table\",\"3\":1,\"4\":1,\"5\":\"Gender\"},{\"0\":\"AgeGenderSheet\",\"1\":\"DoB\",\"2\":\"DOB Table\",\"3\":0,\"4\":0,\"5\":\"DOB Table\"},{\"0\":\"AgeGenderSheet\",\"1\":\"DoB\",\"2\":\"DOB Table\",\"3\":1,\"4\":0,\"5\":\"Name\"},{\"0\":\"AgeGenderSheet\",\"1\":\"DoB\",\"2\":\"DOB Table\",\"3\":2,\"4\":1,\"5\":\"D.O.B\"},{\"0\":\"MaritalDepartmentSheet\",\"1\":\"Marital Status\",\"2\":\"Marital Status Table\",\"3\":0,\"4\":0,\"5\":\"Marital Status Table\"},{\"0\":\"MaritalDepartmentSheet\",\"1\":\"Marital Status\",\"2\":\"Marital Status Table\",\"3\":1,\"4\":0,\"5\":\"Name\"},{\"0\":\"MaritalDepartmentSheet\",\"1\":\"Marital Status\",\"2\":\"Marital Status Table\",\"3\":1,\"4\":1,\"5\":\"Status\"},{\"0\":\"MaritalDepartmentSheet\",\"1\":\"Department Table\",\"2\":\"Department Table\",\"3\":0,\"4\":0,\"5\":\"Department Table\"},{\"0\":\"MaritalDepartmentSheet\",\"1\":\"Department Table\",\"2\":\"Department Table\",\"3\":1,\"4\":0,\"5\":\"Name\"},{\"0\":\"MaritalDepartmentSheet\",\"1\":\"Department Table\",\"2\":\"Department Table\",\"3\":1,\"4\":1,\"5\":\"Department\"},{\"0\":\"JobSheet\",\"1\":\"Jobs\",\"2\":\"Job Description Table\",\"3\":0,\"4\":0,\"5\":\"Job Description Table\"},{\"0\":\"JobSheet\",\"1\":\"Jobs\",\"2\":\"Job Description Table\",\"3\":1,\"4\":0,\"5\":\"Job Title\"},{\"0\":\"JobSheet\",\"1\":\"Jobs\",\"2\":\"Job Description Table\",\"3\":1,\"4\":1,\"5\":\"Employee Name\"},{\"0\":\"JobSheet\",\"1\":\"Jobs\",\"2\":\"Job Description Table\",\"3\":1,\"4\":2,\"5\":\"ID\"},{\"0\":\"HomeSheet\",\"1\":\"HomeLocation\",\"2\":\"Home Location Table\",\"3\":0,\"4\":0,\"5\":\"Home Location Table\"},{\"0\":\"HomeSheet\",\"1\":\"HomeLocation\",\"2\":\"Home Location Table\",\"3\":1,\"4\":0,\"5\":\"Employee\"},{\"0\":\"HomeSheet\",\"1\":\"HomeLocation\",\"2\":\"Home Location Table\",\"3\":1,\"4\":1,\"5\":\"Location\"}]',\n",
       " 'DataSet': '[{\"0\":\"DataSetID\",\"1\":\"SheetName\",\"2\":\"ReferenceTextStart\",\"3\":\"ReferenceTextEnd\",\"4\":\"RowFromReferenceText\",\"5\":\"ColumnFromReferenceText\",\"6\":\"FieldPosition\",\"7\":\"FieldID\",\"8\":\"FieldDescription\",\"9\":\"TableOrientation\"},{\"0\":\"Ages\",\"1\":\"AgeGenderSheet\",\"2\":\"Age Table\",\"3\":\"Gender Table\",\"4\":2,\"5\":1,\"6\":1,\"7\":\"Name\",\"8\":\"Name\",\"9\":\"Down\"},{\"0\":\"Ages\",\"1\":\"AgeGenderSheet\",\"2\":\"Age Table\",\"3\":\"Gender Table\",\"4\":2,\"5\":2,\"6\":2,\"7\":\"Age\",\"8\":\"Age\",\"9\":\"Down\"},{\"0\":\"Genders\",\"1\":\"AgeGenderSheet\",\"2\":\"Gender Table\",\"3\":\"DOB Table\",\"4\":2,\"5\":0,\"6\":1,\"7\":\"Name\",\"8\":\"Name\",\"9\":\"Down\"},{\"0\":\"Genders\",\"1\":\"AgeGenderSheet\",\"2\":\"Gender Table\",\"3\":\"DOB Table\",\"4\":2,\"5\":1,\"6\":2,\"7\":\"Gender\",\"8\":\"Gender\",\"9\":\"Down\"},{\"0\":\"DoB\",\"1\":\"AgeGenderSheet\",\"2\":\"DOB Table\",\"3\":null,\"4\":2,\"5\":0,\"6\":1,\"7\":\"Name\",\"8\":\"Name\",\"9\":\"Down\"},{\"0\":\"DoB\",\"1\":\"AgeGenderSheet\",\"2\":\"DOB Table\",\"3\":null,\"4\":2,\"5\":1,\"6\":2,\"7\":\"DoB\",\"8\":\"D.O.B\",\"9\":\"Down\"},{\"0\":\"MaritalStatus\",\"1\":\"MaritalDepartmentSheet\",\"2\":\"Marital Status Table\",\"3\":null,\"4\":2,\"5\":0,\"6\":1,\"7\":\"Name\",\"8\":\"Name\",\"9\":null},{\"0\":\"MaritalStatus\",\"1\":\"MaritalDepartmentSheet\",\"2\":\"Marital Status Table\",\"3\":null,\"4\":2,\"5\":1,\"6\":2,\"7\":\"Status\",\"8\":\"Status\",\"9\":null},{\"0\":\"Department\",\"1\":\"MaritalDepartmentSheet\",\"2\":\"Department Table\",\"3\":null,\"4\":2,\"5\":0,\"6\":1,\"7\":\"Name\",\"8\":\"Name\",\"9\":null},{\"0\":\"Department\",\"1\":\"MaritalDepartmentSheet\",\"2\":\"Department Table\",\"3\":null,\"4\":2,\"5\":1,\"6\":2,\"7\":\"Department\",\"8\":\"Department\",\"9\":null},{\"0\":\"Jobs\",\"1\":\"JobSheet\",\"2\":\"Job Description Table\",\"3\":null,\"4\":2,\"5\":0,\"6\":1,\"7\":\"Job_Title\",\"8\":\"Job Title\",\"9\":null},{\"0\":\"Jobs\",\"1\":\"JobSheet\",\"2\":\"Job Description Table\",\"3\":null,\"4\":2,\"5\":1,\"6\":2,\"7\":\"Employee_Name\",\"8\":\"Employee Name\",\"9\":null},{\"0\":\"Jobs\",\"1\":\"JobSheet\",\"2\":\"Job Description Table\",\"3\":null,\"4\":2,\"5\":2,\"6\":3,\"7\":\"ID\",\"8\":\"ID\",\"9\":null},{\"0\":\"HomeLocation\",\"1\":\"HomeSheet\",\"2\":\"Home Location Table\",\"3\":null,\"4\":2,\"5\":0,\"6\":1,\"7\":\"Employee\",\"8\":\"Employee\",\"9\":null},{\"0\":\"HomeLocation\",\"1\":\"HomeSheet\",\"2\":\"Home Location Table\",\"3\":null,\"4\":2,\"5\":1,\"6\":2,\"7\":\"Location\",\"8\":\"Location\",\"9\":null}]',\n",
       " 'Rules': '[{\"0\":\"RuleID\",\"1\":\"DataSetID\",\"2\":\"FieldID\",\"3\":\"DataType\",\"4\":\"Format\",\"5\":\"RangeFrom\",\"6\":\"RangeTo\",\"7\":\"Null\",\"8\":\"Length\",\"9\":\"PickList\",\"10\":\"Rule1\",\"11\":\"Rule2\",\"12\":\"Rule3\"},{\"0\":1,\"1\":\"Ages\",\"2\":\"Name\",\"3\":\"Text\",\"4\":null,\"5\":null,\"6\":null,\"7\":\"N\",\"8\":null,\"9\":null,\"10\":null,\"11\":null,\"12\":null},{\"0\":2,\"1\":\"Ages\",\"2\":\"Age\",\"3\":\"Number\",\"4\":null,\"5\":null,\"6\":null,\"7\":\"N\",\"8\":null,\"9\":null,\"10\":\"Positive\",\"11\":\"GreaterThanTen\",\"12\":null},{\"0\":3,\"1\":\"Genders\",\"2\":\"Name\",\"3\":\"Text\",\"4\":null,\"5\":null,\"6\":null,\"7\":\"N\",\"8\":null,\"9\":null,\"10\":null,\"11\":null,\"12\":null},{\"0\":4,\"1\":\"Genders\",\"2\":\"Gender\",\"3\":\"Text\",\"4\":null,\"5\":null,\"6\":null,\"7\":\"N\",\"8\":null,\"9\":\"Gender\",\"10\":null,\"11\":null,\"12\":null},{\"0\":5,\"1\":\"DoB\",\"2\":\"Name\",\"3\":\"Text\",\"4\":null,\"5\":null,\"6\":null,\"7\":\"N\",\"8\":null,\"9\":null,\"10\":null,\"11\":null,\"12\":null},{\"0\":6,\"1\":\"DoB\",\"2\":\"DoB\",\"3\":\"Date\",\"4\":null,\"5\":null,\"6\":null,\"7\":\"N\",\"8\":null,\"9\":null,\"10\":null,\"11\":null,\"12\":null},{\"0\":7,\"1\":\"MaritalStatus\",\"2\":\"Name\",\"3\":\"Text\",\"4\":null,\"5\":null,\"6\":null,\"7\":\"N\",\"8\":null,\"9\":null,\"10\":null,\"11\":null,\"12\":null},{\"0\":8,\"1\":\"MaritalStatus\",\"2\":\"Status\",\"3\":\"Text\",\"4\":null,\"5\":null,\"6\":null,\"7\":\"N\",\"8\":null,\"9\":\"MaritalStatus\",\"10\":null,\"11\":null,\"12\":null},{\"0\":9,\"1\":\"DepartmentTable\",\"2\":\"Name\",\"3\":\"Text\",\"4\":null,\"5\":null,\"6\":null,\"7\":\"N\",\"8\":null,\"9\":null,\"10\":null,\"11\":null,\"12\":null},{\"0\":10,\"1\":\"DepartmentTable\",\"2\":\"Department\",\"3\":\"Text\",\"4\":null,\"5\":null,\"6\":null,\"7\":\"N\",\"8\":null,\"9\":null,\"10\":null,\"11\":null,\"12\":null},{\"0\":11,\"1\":\"Jobs\",\"2\":\"Job_Title\",\"3\":\"Text\",\"4\":null,\"5\":null,\"6\":null,\"7\":\"N\",\"8\":null,\"9\":null,\"10\":null,\"11\":null,\"12\":null},{\"0\":12,\"1\":\"Jobs\",\"2\":\"Employee_Name\",\"3\":\"Text\",\"4\":null,\"5\":null,\"6\":null,\"7\":\"N\",\"8\":null,\"9\":null,\"10\":null,\"11\":null,\"12\":null},{\"0\":13,\"1\":\"Jobs\",\"2\":\"ID\",\"3\":\"Number\",\"4\":null,\"5\":null,\"6\":null,\"7\":\"N\",\"8\":null,\"9\":null,\"10\":null,\"11\":null,\"12\":null},{\"0\":14,\"1\":\"HomeLocation\",\"2\":\"Employee\",\"3\":\"Text\",\"4\":null,\"5\":null,\"6\":null,\"7\":\"N\",\"8\":null,\"9\":null,\"10\":null,\"11\":null,\"12\":null},{\"0\":15,\"1\":\"HomeLocation\",\"2\":\"Location\",\"3\":\"Text\",\"4\":null,\"5\":null,\"6\":null,\"7\":\"N\",\"8\":null,\"9\":\"HomeLocation\",\"10\":null,\"11\":null,\"12\":null}]',\n",
       " 'Palette': '[{\"0\":\"KeyWord\",\"1\":\"Rule\",\"2\":\"CheckPerformed\",\"3\":\"ErrorMessage\",\"4\":\"AlteryxDataType\",\"5\":\"AlteryxFormula\",\"6\":\"RemedialAction\",\"7\":\"SQLFormula\",\"8\":\"PythonFormula\"},{\"0\":\"Date\",\"1\":\"Must Be Date\",\"2\":\"Data Type is Date\",\"3\":\"Date Not Entered\",\"4\":\"Date\",\"5\":\"Length([CellValue]) > 0 and [CellType] = \\\\\"Date\\\\\"\",\"6\":\"Enter Date\",\"7\":\"case when IsNULL([CellValue],\\'XX\\') = \\'XX\\' then 1 when [CellType] = \\'Date\\' then 1 else 0 end\",\"8\":\"np.where(dataset[\\'CellType\\'] == \\'Date\\', 1, 0)\"},{\"0\":\"Number\",\"1\":\"Must Be Number\",\"2\":\"Data Type is Number\",\"3\":\"Number Not Entered\",\"4\":\"Double\",\"5\":\"Length([CellValue]) > 0 and [CellType] = \\\\\"Number\\\\\"\",\"6\":\"Enter Number\",\"7\":\"case when IsNULL([CellValue],\\'XX\\') = \\'XX\\' then 1 when [CellType] = \\'Number\\' then 1 else 0 end\",\"8\":\"np.where(dataset[\\'CellType\\'] == \\'Number\\', 1, 0)\"},{\"0\":\"Text\",\"1\":\"Must Be Text\",\"2\":\"Data Type is Text\",\"3\":\"Text Not Entered\",\"4\":\"V_String\",\"5\":\"Length([CellValue]) > 0 and Contains([CellType],\\\\\"Text\\\\\")\",\"6\":\"Enter as Text\",\"7\":\"case when IsNULL([CellValue],\\'XX\\') = \\'XX\\' then 1 when [CellType] = \\'Text\\' then 1 else 0 end\",\"8\":\"np.where(dataset[\\'CellType\\'] == \\'Text\\', 1, 0)\"},{\"0\":\"NotNull\",\"1\":\"Must Not Be Null\",\"2\":\"Field cannot be Null\",\"3\":\"No Data in Field\",\"4\":null,\"5\":\"Length([CellValue]) > 0\",\"6\":\"Enter Required Data\",\"7\":\"case when IsNULL([CellValue],\\'XX\\') != \\'XX\\' then 1 else 0 end\",\"8\":\"dataset[\\'CellValue\\'].isnull().map({True: 0, False: 1})\"},{\"0\":\"1OrGreater\",\"1\":\"Must be 1 or greater\",\"2\":\"Number is 1 or greater\",\"3\":\"Number is below 1\",\"4\":null,\"5\":\"ToNumber([CellValue])>=1\",\"6\":\"Enter value 1 or greater\",\"7\":\"case when TRY_CAST([CellValue] as INT)>=1 then 1 else 0 end\",\"8\":null},{\"0\":\"Positive\",\"1\":\"Must Be Positive\",\"2\":\"Number is Positive\",\"3\":\"Number Not Positive\",\"4\":null,\"5\":\"ToNumber([CellValue])>=0\",\"6\":\"Enter Positive Number\",\"7\":\"case when TRY_CAST([CellValue] as INT)>0 then 1 else 0 end\",\"8\":\"np.where(dataset[\\'CellValueAsNumber\\'] > 0, 1, 0)\"},{\"0\":\"NotNegative\",\"1\":\"Must Not Be Negative\",\"2\":\"Number is Not Negative\",\"3\":\"Number is Negative\",\"4\":null,\"5\":\"ToNumber([CellValue])>-1\",\"6\":\"Enter Non Negative Number\",\"7\":\"case when TRY_CAST([CellValue] as INT)>-1 then 1 else 0 end\",\"8\":null},{\"0\":\"FieldSizeMaximum\",\"1\":\"Cannot Exceed Length\",\"2\":\"Field Limit Checked\",\"3\":\"Data in Field Too Large\",\"4\":null,\"5\":\"Length([CellValue]) <= ToNumber([Length])\",\"6\":\"Decrease Size of Entry\",\"7\":\"case when Len([CellValue]) <= TRY_CAST([Length] as INT)  then 1 else 0 end\",\"8\":null},{\"0\":\"FieldSizeMinimum\",\"1\":\"Must Exceed Length\",\"2\":\"Minimum Field Size Checked\",\"3\":\"Data in Field Too Small\",\"4\":null,\"5\":\"Length([CellValue]) >=  ToNumber([Length])\",\"6\":\"Increase Size of Entry\",\"7\":\"case when Len([CellValue]) >= TRY_CAST([Length] as INT)  then 1 else 0 end\",\"8\":null},{\"0\":\"FieldSizeLength\",\"1\":\"Must Be Exact Length\",\"2\":\"Checked Exact Field Size\",\"3\":\"Data Entered Wrong Size\",\"4\":null,\"5\":\"Length([CellValue]) =  ToNumber([Length])\",\"6\":\"Enter Correctly Sized Data\",\"7\":\"case when Len([CellValue]) = TRY_CAST([Length] as INT)  then 1 else 0 end\",\"8\":null},{\"0\":\"PickList\",\"1\":\"Must Be in Picklist\",\"2\":\"Validate to Picklist\",\"3\":\"Value Not in Picklist\",\"4\":null,\"5\":\"Contains([ListValues],[CellValue])\",\"6\":\"Enter Using Picklist\",\"7\":\"case when CHARINDEX([CellValue],[PicklistValues]) > 0 then 1 else 0 end\",\"8\":null},{\"0\":\"Pattern\",\"1\":\"Must Match Pattern\",\"2\":\"Validate to Pattern\",\"3\":\"Value Not Match Pattern\",\"4\":null,\"5\":\"REGEX_Match([CellValue],\\\\\"\\\\\\\\u\\\\\\\\u\\\\\\\\d\\\\\\\\d\\\\\\\\u\\\\\\\\u\\\\\\\\u\\\\\")\",\"6\":\"Enter Matching Pattern\",\"7\":\"case when CellValue LIKE \\'[A-Z][A-Z][0-9][0-9][A-Z][A-Z][A-Z]\\' then 1 else 0 end\",\"8\":null},{\"0\":\"DateRange\",\"1\":\"Must Be in Range\",\"2\":\"Date Range Checked\",\"3\":\"Date Outside Range\",\"4\":null,\"5\":\"DateTimeParse([CellValue],\\\\\"%Y-%m-%d\\\\\") > DateTimeParse([RangeFrom],\\\\\"%Y-%m-%d\\\\\") and DateTimeParse([CellValue],\\\\\"%Y-%m-%d\\\\\") < DateTimeParse([RangeTo],\\\\\"%Y-%m-%d\\\\\")\",\"6\":\"Enter Date in Range\",\"7\":\"case when TRY_CAST([CellValue] as date) > TRY_CAST([RangeFrom] as date) and TRY_CAST([CellValue] as date) < TRY_CAST([RangeTo] as date)\\\\nthen 1 else 0 end\",\"8\":null},{\"0\":\"IsAllAlphaNumeric\",\"1\":\"Only Contain Alpha Numerics\",\"2\":\"Data is Alpha Numeric\",\"3\":\"Data Not Alpha Numeric\",\"4\":null,\"5\":\"REGEX_Match([CellValue],\\\\\"\\\\\\\\w+\\\\\")\",\"6\":\"Enter Alpha Numeric Data\",\"7\":\"case when [CellValue] LIKE \\'%[^a-z0-9A-Z]%\\' then 1 else 0 end\",\"8\":null},{\"0\":\"Email\",\"1\":\"Must be Email Address\",\"2\":\"Data is Formatted as Email address\",\"3\":\"Data not in email address format\",\"4\":null,\"5\":\"REGEX_Match([CellValue],\\\\\"[\\\\\\\\.\\\\\\\\w-]+)@((?:[\\\\\\\\w-]+\\\\\\\\.)+)([a-zA-Z]{2,4}\\\\\")\",\"6\":\"Enter a full email address\",\"7\":\"case when [CellValue] LIKE \\'%[^a-z0-9A-Z@]%\\' then 1 else 0 end\",\"8\":null},{\"0\":\"ShortPostCode\",\"1\":\"Must contain only the first part of the Post Code\",\"2\":\"Length >1 AND length <5 AND First character must be alphabetical (not number or symbol) AND last character must be number\",\"3\":\"Postcode Entered Incorrectly\",\"4\":null,\"5\":\"Length([CellValue]) <= ToNumber([RangeTo]) AND Length([CellValue]) >= ToNumber([RangeFrom])\",\"6\":\"Enter only first section of Postcode\",\"7\":\"case when Len([CellValue]) <= TRY_CAST([RangeTo] as INT) AND Len([CellValue]) >= TRY_CAST([RangeFrom] as INT) then 1 else 0 end as Result\",\"8\":null},{\"0\":\"GreaterThanRangeFrom\",\"1\":\"Greater than RangeFrom\",\"2\":\"Greater than RangeFrom\",\"3\":\"Value too low\",\"4\":null,\"5\":\"ToNumber([CellValue])>=ToNumber([RangeFrom])\",\"6\":\"Value must be larger\",\"7\":\"case when Len([CellValue]) >= TRY_CAST([RangeFrom] as INT) then 1 else 0 end as Result\",\"8\":null},{\"0\":\"Less\",\"1\":\"Less than RangeTo\",\"2\":\"Less than RangeTo\",\"3\":\"Value too high\",\"4\":null,\"5\":\"ToNumber([CellValue])<=ToNumber([RangeTo])\",\"6\":\"Value must be smaller\",\"7\":\"case when Len([CellValue]) <= TRY_CAST([RangeTo] as INT) then 1 else 0 end as Result\",\"8\":null},{\"0\":\"PostCode\",\"1\":\"Must be PostCode format\",\"2\":\"CellValue formatted as PostCode\",\"3\":\"Not a PostCode\",\"4\":null,\"5\":\"Length([CellValue]) <= ToNumber([RangeTo]) AND Length([CellValue]) >= ToNumber([RangeFrom])\",\"6\":\"Enter a full PostCode\",\"7\":\"case when Len([CellValue]) <= TRY_CAST([RangeTo] as INT) AND Len([CellValue]) >= TRY_CAST([RangeFrom] as INT) then 1 else 0 end as Result\",\"8\":null},{\"0\":\"NoDayInDoB\",\"1\":\"No Day entered in DoB\",\"2\":\"Check that 01 is only day value\",\"3\":\"Day of month entered in DoB\",\"4\":null,\"5\":\"DateTimeDay([CellValue]) = 1\",\"6\":\"Remove Day from DoB\",\"7\":\"case when Day([CellValue]) = 1 then 1 else 0 end\",\"8\":null},{\"0\":\"GreaterThanTen\",\"1\":\"Must be greater than ten\",\"2\":\"Greater than 10\",\"3\":\"Not Greater than 10\",\"4\":null,\"5\":\"ToNumber([CellValue])>10\",\"6\":\"Enter Age Greater Than 10\",\"7\":\"case when TRY_CAST([CellValue] as INT)>10 then 1 else 0 end\",\"8\":\"np.where(dataset[\\'CellValueAsNumber\\'] > 10, 1, 0)\"}]',\n",
       " 'PickList': '[{\"0\":\"MaritalStatus\",\"1\":\"HomeLocation\",\"2\":\"Gender\"},{\"0\":\"Single\",\"1\":\"London\",\"2\":\"Male\"},{\"0\":\"Married\",\"1\":\"Liverpool\",\"2\":\"Female\"}]',\n",
       " 'MetaData': '[{\"0\":\"Database\",\"1\":\"DataSetID\",\"2\":\"Schema\",\"3\":\"TableName\"},{\"0\":\"data\",\"1\":\"Ages\",\"2\":\"raw\",\"3\":\"Ages\"},{\"0\":\"data\",\"1\":\"Genders\",\"2\":\"raw\",\"3\":\"Genders\"},{\"0\":\"data\",\"1\":\"DoB\",\"2\":\"raw\",\"3\":\"DoB\"},{\"0\":\"data\",\"1\":\"MaritalStatus\",\"2\":\"raw\",\"3\":\"MaritalStatus\"},{\"0\":\"data\",\"1\":\"Department\",\"2\":\"raw\",\"3\":\"Department\"},{\"0\":\"data\",\"1\":\"Jobs\",\"2\":\"raw\",\"3\":\"Jobs\"},{\"0\":\"data\",\"1\":\"HomeLocation\",\"2\":\"raw\",\"3\":\"HomeLocation\"}]'}"
      ]
     },
     "execution_count": 46,
     "metadata": {},
     "output_type": "execute_result"
    }
   ],
   "source": [
    "data_json"
   ]
  },
  {
   "cell_type": "code",
   "execution_count": 47,
   "metadata": {},
   "outputs": [
    {
     "name": "stdout",
     "output_type": "stream",
     "text": [
      "[{'sheet_name': 'AgeGenderSheet', 'row_id': 5, 'column_id': 2, 'value': 'Age Table', 'type': 'str'}, {'sheet_name': 'AgeGenderSheet', 'row_id': 5, 'column_id': 3, 'value': 'Age Table', 'type': 'str'}, {'sheet_name': 'AgeGenderSheet', 'row_id': 5, 'column_id': 4, 'value': 'Age Table', 'type': 'str'}, {'sheet_name': 'AgeGenderSheet', 'row_id': 6, 'column_id': 3, 'value': 'Name', 'type': 'str'}, {'sheet_name': 'AgeGenderSheet', 'row_id': 6, 'column_id': 4, 'value': 'Age', 'type': 'str'}, {'sheet_name': 'AgeGenderSheet', 'row_id': 7, 'column_id': 3, 'value': 'Paul', 'type': 'str'}, {'sheet_name': 'AgeGenderSheet', 'row_id': 7, 'column_id': 4, 'value': -52, 'type': 'int'}, {'sheet_name': 'AgeGenderSheet', 'row_id': 8, 'column_id': 3, 'value': 'Ringo', 'type': 'str'}, {'sheet_name': 'AgeGenderSheet', 'row_id': 8, 'column_id': 4, 'value': 22, 'type': 'int'}, {'sheet_name': 'AgeGenderSheet', 'row_id': 9, 'column_id': 3, 'value': 'Brian', 'type': 'str'}, {'sheet_name': 'AgeGenderSheet', 'row_id': 9, 'column_id': 4, 'value': 89, 'type': 'int'}, {'sheet_name': 'AgeGenderSheet', 'row_id': 14, 'column_id': 4, 'value': 'Gender Table', 'type': 'str'}, {'sheet_name': 'AgeGenderSheet', 'row_id': 14, 'column_id': 5, 'value': 'Gender Table', 'type': 'str'}, {'sheet_name': 'AgeGenderSheet', 'row_id': 15, 'column_id': 4, 'value': 'Name', 'type': 'str'}, {'sheet_name': 'AgeGenderSheet', 'row_id': 15, 'column_id': 5, 'value': 'Gender', 'type': 'str'}, {'sheet_name': 'AgeGenderSheet', 'row_id': 16, 'column_id': 4, 'value': 'Paul', 'type': 'str'}, {'sheet_name': 'AgeGenderSheet', 'row_id': 16, 'column_id': 5, 'value': 'Male', 'type': 'str'}, {'sheet_name': 'AgeGenderSheet', 'row_id': 17, 'column_id': 4, 'value': 'Ringo', 'type': 'str'}, {'sheet_name': 'AgeGenderSheet', 'row_id': 17, 'column_id': 5, 'value': 'Prefer not to say', 'type': 'str'}, {'sheet_name': 'AgeGenderSheet', 'row_id': 18, 'column_id': 4, 'value': 'Brian', 'type': 'str'}, {'sheet_name': 'AgeGenderSheet', 'row_id': 18, 'column_id': 5, 'value': 'Male', 'type': 'str'}, {'sheet_name': 'AgeGenderSheet', 'row_id': 23, 'column_id': 1, 'value': 'DOB Table', 'type': 'str'}, {'sheet_name': 'AgeGenderSheet', 'row_id': 23, 'column_id': 2, 'value': 'DOB Table', 'type': 'str'}, {'sheet_name': 'AgeGenderSheet', 'row_id': 24, 'column_id': 1, 'value': 'Name', 'type': 'str'}, {'sheet_name': 'AgeGenderSheet', 'row_id': 24, 'column_id': 2, 'value': 'D.O.B', 'type': 'str'}, {'sheet_name': 'AgeGenderSheet', 'row_id': 25, 'column_id': 1, 'value': 'Paul', 'type': 'str'}, {'sheet_name': 'AgeGenderSheet', 'row_id': 25, 'column_id': 2, 'value': '1955-07-01T00:00:00', 'type': 'datetime'}, {'sheet_name': 'AgeGenderSheet', 'row_id': 26, 'column_id': 1, 'value': 'Ringo', 'type': 'str'}, {'sheet_name': 'AgeGenderSheet', 'row_id': 26, 'column_id': 2, 'value': '1996-01-09T00:00:00', 'type': 'datetime'}, {'sheet_name': 'AgeGenderSheet', 'row_id': 27, 'column_id': 1, 'value': 'Brian', 'type': 'str'}, {'sheet_name': 'AgeGenderSheet', 'row_id': 27, 'column_id': 2, 'value': '7th Aug 28', 'type': 'str'}, {'sheet_name': 'HomeSheet', 'row_id': 8, 'column_id': 1, 'value': 'Home Location Table', 'type': 'str'}, {'sheet_name': 'HomeSheet', 'row_id': 8, 'column_id': 2, 'value': 'Home Location Table', 'type': 'str'}, {'sheet_name': 'HomeSheet', 'row_id': 9, 'column_id': 1, 'value': 'Employee', 'type': 'str'}, {'sheet_name': 'HomeSheet', 'row_id': 9, 'column_id': 2, 'value': 'Location', 'type': 'str'}, {'sheet_name': 'HomeSheet', 'row_id': 10, 'column_id': 1, 'value': 'Brian', 'type': 'str'}, {'sheet_name': 'HomeSheet', 'row_id': 10, 'column_id': 2, 'value': 'London', 'type': 'str'}, {'sheet_name': 'HomeSheet', 'row_id': 11, 'column_id': 1, 'value': 'Ringo', 'type': 'str'}, {'sheet_name': 'HomeSheet', 'row_id': 11, 'column_id': 2, 'value': 'Liverpool', 'type': 'str'}, {'sheet_name': 'HomeSheet', 'row_id': 12, 'column_id': 1, 'value': 'Paul', 'type': 'str'}, {'sheet_name': 'HomeSheet', 'row_id': 12, 'column_id': 2, 'value': 'Blackpool', 'type': 'str'}, {'sheet_name': 'JobSheet', 'row_id': 6, 'column_id': 3, 'value': 'Job Description Table', 'type': 'str'}, {'sheet_name': 'JobSheet', 'row_id': 6, 'column_id': 4, 'value': 'Job Description Table', 'type': 'str'}, {'sheet_name': 'JobSheet', 'row_id': 6, 'column_id': 5, 'value': 'Job Description Table', 'type': 'str'}, {'sheet_name': 'JobSheet', 'row_id': 7, 'column_id': 3, 'value': 'Job Title', 'type': 'str'}, {'sheet_name': 'JobSheet', 'row_id': 7, 'column_id': 4, 'value': 'Employee Name', 'type': 'str'}, {'sheet_name': 'JobSheet', 'row_id': 7, 'column_id': 5, 'value': 'ID', 'type': 'str'}, {'sheet_name': 'JobSheet', 'row_id': 8, 'column_id': 3, 'value': 'Production Manager', 'type': 'str'}, {'sheet_name': 'JobSheet', 'row_id': 8, 'column_id': 4, 'value': 'Paul', 'type': 'str'}, {'sheet_name': 'JobSheet', 'row_id': 8, 'column_id': 5, 'value': 'A', 'type': 'str'}, {'sheet_name': 'JobSheet', 'row_id': 9, 'column_id': 3, 'value': 'Programmer', 'type': 'str'}, {'sheet_name': 'JobSheet', 'row_id': 9, 'column_id': 4, 'value': 'Ringo', 'type': 'str'}, {'sheet_name': 'JobSheet', 'row_id': 9, 'column_id': 5, 'value': 1, 'type': 'int'}, {'sheet_name': 'JobSheet', 'row_id': 10, 'column_id': 3, 'value': 'Accountant', 'type': 'str'}, {'sheet_name': 'JobSheet', 'row_id': 10, 'column_id': 4, 'value': 'Brian', 'type': 'str'}, {'sheet_name': 'JobSheet', 'row_id': 10, 'column_id': 5, 'value': 2, 'type': 'int'}, {'sheet_name': 'MaritalDepartmentSheet', 'row_id': 2, 'column_id': 5, 'value': 'Department Table', 'type': 'str'}, {'sheet_name': 'MaritalDepartmentSheet', 'row_id': 2, 'column_id': 6, 'value': 'Department Table', 'type': 'str'}, {'sheet_name': 'MaritalDepartmentSheet', 'row_id': 3, 'column_id': 1, 'value': 'Marital Status Table', 'type': 'str'}, {'sheet_name': 'MaritalDepartmentSheet', 'row_id': 3, 'column_id': 2, 'value': 'Marital Status Table', 'type': 'str'}, {'sheet_name': 'MaritalDepartmentSheet', 'row_id': 3, 'column_id': 5, 'value': 'Name', 'type': 'str'}, {'sheet_name': 'MaritalDepartmentSheet', 'row_id': 3, 'column_id': 6, 'value': 'Department', 'type': 'str'}, {'sheet_name': 'MaritalDepartmentSheet', 'row_id': 4, 'column_id': 1, 'value': 'Name', 'type': 'str'}, {'sheet_name': 'MaritalDepartmentSheet', 'row_id': 4, 'column_id': 2, 'value': 'Status', 'type': 'str'}, {'sheet_name': 'MaritalDepartmentSheet', 'row_id': 4, 'column_id': 5, 'value': 'Paul', 'type': 'str'}, {'sheet_name': 'MaritalDepartmentSheet', 'row_id': 4, 'column_id': 6, 'value': 'Production', 'type': 'str'}, {'sheet_name': 'MaritalDepartmentSheet', 'row_id': 5, 'column_id': 1, 'value': 'Paul', 'type': 'str'}, {'sheet_name': 'MaritalDepartmentSheet', 'row_id': 5, 'column_id': 2, 'value': 'Married', 'type': 'str'}, {'sheet_name': 'MaritalDepartmentSheet', 'row_id': 5, 'column_id': 5, 'value': 'Ringo', 'type': 'str'}, {'sheet_name': 'MaritalDepartmentSheet', 'row_id': 5, 'column_id': 6, 'value': 'IT', 'type': 'str'}, {'sheet_name': 'MaritalDepartmentSheet', 'row_id': 6, 'column_id': 1, 'value': 'Ringo', 'type': 'str'}, {'sheet_name': 'MaritalDepartmentSheet', 'row_id': 6, 'column_id': 2, 'value': 'Civil Partnership', 'type': 'str'}, {'sheet_name': 'MaritalDepartmentSheet', 'row_id': 6, 'column_id': 5, 'value': 'Brian', 'type': 'str'}, {'sheet_name': 'MaritalDepartmentSheet', 'row_id': 6, 'column_id': 6, 'value': 'Accounts', 'type': 'str'}, {'sheet_name': 'MaritalDepartmentSheet', 'row_id': 7, 'column_id': 1, 'value': 'Brian', 'type': 'str'}, {'sheet_name': 'MaritalDepartmentSheet', 'row_id': 7, 'column_id': 2, 'value': 'Single', 'type': 'str'}, {'sheet_name': 'DataMap', 'row_id': 1, 'column_id': 1, 'value': 'SheetName', 'type': 'str'}, {'sheet_name': 'DataMap', 'row_id': 1, 'column_id': 2, 'value': 'ReferenceText', 'type': 'str'}, {'sheet_name': 'DataMap', 'row_id': 1, 'column_id': 3, 'value': 'RowFromReferenceText', 'type': 'str'}, {'sheet_name': 'DataMap', 'row_id': 1, 'column_id': 4, 'value': 'ColumnFromReferenceText', 'type': 'str'}, {'sheet_name': 'DataMap', 'row_id': 1, 'column_id': 5, 'value': 'TemplateText', 'type': 'str'}, {'sheet_name': 'DataMap', 'row_id': 1, 'column_id': 6, 'value': 'DataGroup', 'type': 'str'}, {'sheet_name': 'DataMap', 'row_id': 1, 'column_id': 7, 'value': 'DataCategory', 'type': 'str'}, {'sheet_name': 'DataMap', 'row_id': 1, 'column_id': 8, 'value': 'DataScope', 'type': 'str'}, {'sheet_name': 'DataMap', 'row_id': 1, 'column_id': 9, 'value': 'FieldID', 'type': 'str'}, {'sheet_name': 'DataMap', 'row_id': 1, 'column_id': 10, 'value': 'Column Header', 'type': 'str'}, {'sheet_name': 'DataMap', 'row_id': 1, 'column_id': 11, 'value': 'DataSetID', 'type': 'str'}, {'sheet_name': 'DataMap', 'row_id': 2, 'column_id': 1, 'value': 'AgeGenderSheet', 'type': 'str'}, {'sheet_name': 'DataMap', 'row_id': 2, 'column_id': 2, 'value': 'Age Table', 'type': 'str'}, {'sheet_name': 'DataMap', 'row_id': 2, 'column_id': 3, 'value': 2, 'type': 'int'}, {'sheet_name': 'DataMap', 'row_id': 2, 'column_id': 4, 'value': 1, 'type': 'int'}, {'sheet_name': 'DataMap', 'row_id': 2, 'column_id': 5, 'value': 'Name', 'type': 'str'}, {'sheet_name': 'DataMap', 'row_id': 2, 'column_id': 6, 'value': 'Ages', 'type': 'str'}, {'sheet_name': 'DataMap', 'row_id': 2, 'column_id': 9, 'value': 'Name', 'type': 'str'}, {'sheet_name': 'DataMap', 'row_id': 2, 'column_id': 10, 'value': 'Name', 'type': 'str'}, {'sheet_name': 'DataMap', 'row_id': 2, 'column_id': 11, 'value': 'Ages', 'type': 'str'}, {'sheet_name': 'DataMap', 'row_id': 3, 'column_id': 1, 'value': 'AgeGenderSheet', 'type': 'str'}, {'sheet_name': 'DataMap', 'row_id': 3, 'column_id': 2, 'value': 'Age Table', 'type': 'str'}, {'sheet_name': 'DataMap', 'row_id': 3, 'column_id': 3, 'value': 2, 'type': 'int'}, {'sheet_name': 'DataMap', 'row_id': 3, 'column_id': 4, 'value': 2, 'type': 'int'}, {'sheet_name': 'DataMap', 'row_id': 3, 'column_id': 5, 'value': 'Age', 'type': 'str'}, {'sheet_name': 'DataMap', 'row_id': 3, 'column_id': 6, 'value': 'Ages', 'type': 'str'}, {'sheet_name': 'DataMap', 'row_id': 3, 'column_id': 9, 'value': 'Age', 'type': 'str'}, {'sheet_name': 'DataMap', 'row_id': 3, 'column_id': 10, 'value': 'Age', 'type': 'str'}, {'sheet_name': 'DataMap', 'row_id': 3, 'column_id': 11, 'value': 'Ages', 'type': 'str'}, {'sheet_name': 'DataMap', 'row_id': 4, 'column_id': 1, 'value': 'AgeGenderSheet', 'type': 'str'}, {'sheet_name': 'DataMap', 'row_id': 4, 'column_id': 2, 'value': 'Gender Table', 'type': 'str'}, {'sheet_name': 'DataMap', 'row_id': 4, 'column_id': 3, 'value': 2, 'type': 'int'}, {'sheet_name': 'DataMap', 'row_id': 4, 'column_id': 4, 'value': 0, 'type': 'int'}, {'sheet_name': 'DataMap', 'row_id': 4, 'column_id': 5, 'value': 'Name', 'type': 'str'}, {'sheet_name': 'DataMap', 'row_id': 4, 'column_id': 6, 'value': 'Genders', 'type': 'str'}, {'sheet_name': 'DataMap', 'row_id': 4, 'column_id': 9, 'value': 'Name', 'type': 'str'}, {'sheet_name': 'DataMap', 'row_id': 4, 'column_id': 10, 'value': 'Name', 'type': 'str'}, {'sheet_name': 'DataMap', 'row_id': 4, 'column_id': 11, 'value': 'Genders', 'type': 'str'}, {'sheet_name': 'DataMap', 'row_id': 5, 'column_id': 1, 'value': 'AgeGenderSheet', 'type': 'str'}, {'sheet_name': 'DataMap', 'row_id': 5, 'column_id': 2, 'value': 'Gender Table', 'type': 'str'}, {'sheet_name': 'DataMap', 'row_id': 5, 'column_id': 3, 'value': 2, 'type': 'int'}, {'sheet_name': 'DataMap', 'row_id': 5, 'column_id': 4, 'value': 1, 'type': 'int'}, {'sheet_name': 'DataMap', 'row_id': 5, 'column_id': 5, 'value': 'Gender', 'type': 'str'}, {'sheet_name': 'DataMap', 'row_id': 5, 'column_id': 6, 'value': 'Genders', 'type': 'str'}, {'sheet_name': 'DataMap', 'row_id': 5, 'column_id': 9, 'value': 'Gender', 'type': 'str'}, {'sheet_name': 'DataMap', 'row_id': 5, 'column_id': 10, 'value': 'Gender', 'type': 'str'}, {'sheet_name': 'DataMap', 'row_id': 5, 'column_id': 11, 'value': 'Genders', 'type': 'str'}, {'sheet_name': 'DataMap', 'row_id': 6, 'column_id': 1, 'value': 'AgeGenderSheet', 'type': 'str'}, {'sheet_name': 'DataMap', 'row_id': 6, 'column_id': 2, 'value': 'DOB Table', 'type': 'str'}, {'sheet_name': 'DataMap', 'row_id': 6, 'column_id': 3, 'value': 2, 'type': 'int'}, {'sheet_name': 'DataMap', 'row_id': 6, 'column_id': 4, 'value': 0, 'type': 'int'}, {'sheet_name': 'DataMap', 'row_id': 6, 'column_id': 5, 'value': 'Name', 'type': 'str'}, {'sheet_name': 'DataMap', 'row_id': 6, 'column_id': 6, 'value': 'DoB', 'type': 'str'}, {'sheet_name': 'DataMap', 'row_id': 6, 'column_id': 9, 'value': 'Name', 'type': 'str'}, {'sheet_name': 'DataMap', 'row_id': 6, 'column_id': 10, 'value': 'Name', 'type': 'str'}, {'sheet_name': 'DataMap', 'row_id': 6, 'column_id': 11, 'value': 'DoB', 'type': 'str'}, {'sheet_name': 'DataMap', 'row_id': 7, 'column_id': 1, 'value': 'AgeGenderSheet', 'type': 'str'}, {'sheet_name': 'DataMap', 'row_id': 7, 'column_id': 2, 'value': 'DOB Table', 'type': 'str'}, {'sheet_name': 'DataMap', 'row_id': 7, 'column_id': 3, 'value': 2, 'type': 'int'}, {'sheet_name': 'DataMap', 'row_id': 7, 'column_id': 4, 'value': 1, 'type': 'int'}, {'sheet_name': 'DataMap', 'row_id': 7, 'column_id': 5, 'value': 'D.O.B', 'type': 'str'}, {'sheet_name': 'DataMap', 'row_id': 7, 'column_id': 6, 'value': 'DoB', 'type': 'str'}, {'sheet_name': 'DataMap', 'row_id': 7, 'column_id': 9, 'value': 'DoB', 'type': 'str'}, {'sheet_name': 'DataMap', 'row_id': 7, 'column_id': 10, 'value': 'D.O.B', 'type': 'str'}, {'sheet_name': 'DataMap', 'row_id': 7, 'column_id': 11, 'value': 'DoB', 'type': 'str'}, {'sheet_name': 'DataMap', 'row_id': 8, 'column_id': 1, 'value': 'MaritalDepartmentSheet', 'type': 'str'}, {'sheet_name': 'DataMap', 'row_id': 8, 'column_id': 2, 'value': 'Marital Status Table', 'type': 'str'}, {'sheet_name': 'DataMap', 'row_id': 8, 'column_id': 3, 'value': 2, 'type': 'int'}, {'sheet_name': 'DataMap', 'row_id': 8, 'column_id': 4, 'value': 0, 'type': 'int'}, {'sheet_name': 'DataMap', 'row_id': 8, 'column_id': 5, 'value': 'Name', 'type': 'str'}, {'sheet_name': 'DataMap', 'row_id': 8, 'column_id': 6, 'value': 'Marital Status', 'type': 'str'}, {'sheet_name': 'DataMap', 'row_id': 8, 'column_id': 9, 'value': 'Name', 'type': 'str'}, {'sheet_name': 'DataMap', 'row_id': 8, 'column_id': 10, 'value': 'Name', 'type': 'str'}, {'sheet_name': 'DataMap', 'row_id': 8, 'column_id': 11, 'value': 'MaritalStatus', 'type': 'str'}, {'sheet_name': 'DataMap', 'row_id': 9, 'column_id': 1, 'value': 'MaritalDepartmentSheet', 'type': 'str'}, {'sheet_name': 'DataMap', 'row_id': 9, 'column_id': 2, 'value': 'Marital Status Table', 'type': 'str'}, {'sheet_name': 'DataMap', 'row_id': 9, 'column_id': 3, 'value': 2, 'type': 'int'}, {'sheet_name': 'DataMap', 'row_id': 9, 'column_id': 4, 'value': 1, 'type': 'int'}, {'sheet_name': 'DataMap', 'row_id': 9, 'column_id': 5, 'value': 'Status', 'type': 'str'}, {'sheet_name': 'DataMap', 'row_id': 9, 'column_id': 6, 'value': 'Marital Status', 'type': 'str'}, {'sheet_name': 'DataMap', 'row_id': 9, 'column_id': 9, 'value': 'Status', 'type': 'str'}, {'sheet_name': 'DataMap', 'row_id': 9, 'column_id': 10, 'value': 'Status', 'type': 'str'}, {'sheet_name': 'DataMap', 'row_id': 9, 'column_id': 11, 'value': 'MaritalStatus', 'type': 'str'}, {'sheet_name': 'DataMap', 'row_id': 10, 'column_id': 1, 'value': 'MaritalDepartmentSheet', 'type': 'str'}, {'sheet_name': 'DataMap', 'row_id': 10, 'column_id': 2, 'value': 'Department Table', 'type': 'str'}, {'sheet_name': 'DataMap', 'row_id': 10, 'column_id': 3, 'value': 2, 'type': 'int'}, {'sheet_name': 'DataMap', 'row_id': 10, 'column_id': 4, 'value': 0, 'type': 'int'}, {'sheet_name': 'DataMap', 'row_id': 10, 'column_id': 5, 'value': 'Name', 'type': 'str'}, {'sheet_name': 'DataMap', 'row_id': 10, 'column_id': 6, 'value': 'Department', 'type': 'str'}, {'sheet_name': 'DataMap', 'row_id': 10, 'column_id': 9, 'value': 'Name', 'type': 'str'}, {'sheet_name': 'DataMap', 'row_id': 10, 'column_id': 10, 'value': 'Name', 'type': 'str'}, {'sheet_name': 'DataMap', 'row_id': 10, 'column_id': 11, 'value': 'Department', 'type': 'str'}, {'sheet_name': 'DataMap', 'row_id': 11, 'column_id': 1, 'value': 'MaritalDepartmentSheet', 'type': 'str'}, {'sheet_name': 'DataMap', 'row_id': 11, 'column_id': 2, 'value': 'Department Table', 'type': 'str'}, {'sheet_name': 'DataMap', 'row_id': 11, 'column_id': 3, 'value': 2, 'type': 'int'}, {'sheet_name': 'DataMap', 'row_id': 11, 'column_id': 4, 'value': 1, 'type': 'int'}, {'sheet_name': 'DataMap', 'row_id': 11, 'column_id': 5, 'value': 'Department', 'type': 'str'}, {'sheet_name': 'DataMap', 'row_id': 11, 'column_id': 6, 'value': 'Department', 'type': 'str'}, {'sheet_name': 'DataMap', 'row_id': 11, 'column_id': 9, 'value': 'Department', 'type': 'str'}, {'sheet_name': 'DataMap', 'row_id': 11, 'column_id': 10, 'value': 'Department', 'type': 'str'}, {'sheet_name': 'DataMap', 'row_id': 11, 'column_id': 11, 'value': 'Department', 'type': 'str'}, {'sheet_name': 'DataMap', 'row_id': 12, 'column_id': 1, 'value': 'JobSheet', 'type': 'str'}, {'sheet_name': 'DataMap', 'row_id': 12, 'column_id': 2, 'value': 'Job Description Table', 'type': 'str'}, {'sheet_name': 'DataMap', 'row_id': 12, 'column_id': 3, 'value': 2, 'type': 'int'}, {'sheet_name': 'DataMap', 'row_id': 12, 'column_id': 4, 'value': 0, 'type': 'int'}, {'sheet_name': 'DataMap', 'row_id': 12, 'column_id': 5, 'value': 'Job Title', 'type': 'str'}, {'sheet_name': 'DataMap', 'row_id': 12, 'column_id': 6, 'value': 'Jobs', 'type': 'str'}, {'sheet_name': 'DataMap', 'row_id': 12, 'column_id': 9, 'value': 'Job_Title', 'type': 'str'}, {'sheet_name': 'DataMap', 'row_id': 12, 'column_id': 10, 'value': 'Job Title', 'type': 'str'}, {'sheet_name': 'DataMap', 'row_id': 12, 'column_id': 11, 'value': 'Jobs', 'type': 'str'}, {'sheet_name': 'DataMap', 'row_id': 13, 'column_id': 1, 'value': 'JobSheet', 'type': 'str'}, {'sheet_name': 'DataMap', 'row_id': 13, 'column_id': 2, 'value': 'Job Description Table', 'type': 'str'}, {'sheet_name': 'DataMap', 'row_id': 13, 'column_id': 3, 'value': 2, 'type': 'int'}, {'sheet_name': 'DataMap', 'row_id': 13, 'column_id': 4, 'value': 1, 'type': 'int'}, {'sheet_name': 'DataMap', 'row_id': 13, 'column_id': 5, 'value': 'Employee Name', 'type': 'str'}, {'sheet_name': 'DataMap', 'row_id': 13, 'column_id': 6, 'value': 'Jobs', 'type': 'str'}, {'sheet_name': 'DataMap', 'row_id': 13, 'column_id': 9, 'value': 'Employee_Name', 'type': 'str'}, {'sheet_name': 'DataMap', 'row_id': 13, 'column_id': 10, 'value': 'Employee Name', 'type': 'str'}, {'sheet_name': 'DataMap', 'row_id': 13, 'column_id': 11, 'value': 'Jobs', 'type': 'str'}, {'sheet_name': 'DataMap', 'row_id': 14, 'column_id': 1, 'value': 'JobSheet', 'type': 'str'}, {'sheet_name': 'DataMap', 'row_id': 14, 'column_id': 2, 'value': 'Job Description Table', 'type': 'str'}, {'sheet_name': 'DataMap', 'row_id': 14, 'column_id': 3, 'value': 2, 'type': 'int'}, {'sheet_name': 'DataMap', 'row_id': 14, 'column_id': 4, 'value': 2, 'type': 'int'}, {'sheet_name': 'DataMap', 'row_id': 14, 'column_id': 5, 'value': 'ID', 'type': 'str'}, {'sheet_name': 'DataMap', 'row_id': 14, 'column_id': 6, 'value': 'Jobs', 'type': 'str'}, {'sheet_name': 'DataMap', 'row_id': 14, 'column_id': 9, 'value': 'ID', 'type': 'str'}, {'sheet_name': 'DataMap', 'row_id': 14, 'column_id': 10, 'value': 'ID', 'type': 'str'}, {'sheet_name': 'DataMap', 'row_id': 14, 'column_id': 11, 'value': 'Jobs', 'type': 'str'}, {'sheet_name': 'DataMap', 'row_id': 15, 'column_id': 1, 'value': 'HomeSheet', 'type': 'str'}, {'sheet_name': 'DataMap', 'row_id': 15, 'column_id': 2, 'value': 'Home Location Table', 'type': 'str'}, {'sheet_name': 'DataMap', 'row_id': 15, 'column_id': 3, 'value': 2, 'type': 'int'}, {'sheet_name': 'DataMap', 'row_id': 15, 'column_id': 4, 'value': 0, 'type': 'int'}, {'sheet_name': 'DataMap', 'row_id': 15, 'column_id': 5, 'value': 'Employee', 'type': 'str'}, {'sheet_name': 'DataMap', 'row_id': 15, 'column_id': 6, 'value': 'Home Location', 'type': 'str'}, {'sheet_name': 'DataMap', 'row_id': 15, 'column_id': 9, 'value': 'Employee', 'type': 'str'}, {'sheet_name': 'DataMap', 'row_id': 15, 'column_id': 10, 'value': 'Employee', 'type': 'str'}, {'sheet_name': 'DataMap', 'row_id': 15, 'column_id': 11, 'value': 'HomeLocation', 'type': 'str'}, {'sheet_name': 'DataMap', 'row_id': 16, 'column_id': 1, 'value': 'HomeSheet', 'type': 'str'}, {'sheet_name': 'DataMap', 'row_id': 16, 'column_id': 2, 'value': 'Home Location Table', 'type': 'str'}, {'sheet_name': 'DataMap', 'row_id': 16, 'column_id': 3, 'value': 2, 'type': 'int'}, {'sheet_name': 'DataMap', 'row_id': 16, 'column_id': 4, 'value': 1, 'type': 'int'}, {'sheet_name': 'DataMap', 'row_id': 16, 'column_id': 5, 'value': 'Location', 'type': 'str'}, {'sheet_name': 'DataMap', 'row_id': 16, 'column_id': 6, 'value': 'Home Location', 'type': 'str'}, {'sheet_name': 'DataMap', 'row_id': 16, 'column_id': 9, 'value': 'Location', 'type': 'str'}, {'sheet_name': 'DataMap', 'row_id': 16, 'column_id': 10, 'value': 'Location', 'type': 'str'}, {'sheet_name': 'DataMap', 'row_id': 16, 'column_id': 11, 'value': 'HomeLocation', 'type': 'str'}, {'sheet_name': 'TemplateValidationMap', 'row_id': 1, 'column_id': 1, 'value': 'SheetName', 'type': 'str'}, {'sheet_name': 'TemplateValidationMap', 'row_id': 1, 'column_id': 2, 'value': 'DataSetID', 'type': 'str'}, {'sheet_name': 'TemplateValidationMap', 'row_id': 1, 'column_id': 3, 'value': 'ReferenceText', 'type': 'str'}, {'sheet_name': 'TemplateValidationMap', 'row_id': 1, 'column_id': 4, 'value': 'RowFromReferenceText', 'type': 'str'}, {'sheet_name': 'TemplateValidationMap', 'row_id': 1, 'column_id': 5, 'value': 'ColumnFromReferenceText', 'type': 'str'}, {'sheet_name': 'TemplateValidationMap', 'row_id': 1, 'column_id': 6, 'value': 'TemplateText', 'type': 'str'}, {'sheet_name': 'TemplateValidationMap', 'row_id': 2, 'column_id': 1, 'value': 'AgeGenderSheet', 'type': 'str'}, {'sheet_name': 'TemplateValidationMap', 'row_id': 2, 'column_id': 2, 'value': 'Ages', 'type': 'str'}, {'sheet_name': 'TemplateValidationMap', 'row_id': 2, 'column_id': 3, 'value': 'Age Table', 'type': 'str'}, {'sheet_name': 'TemplateValidationMap', 'row_id': 2, 'column_id': 4, 'value': 0, 'type': 'int'}, {'sheet_name': 'TemplateValidationMap', 'row_id': 2, 'column_id': 5, 'value': 0, 'type': 'int'}, {'sheet_name': 'TemplateValidationMap', 'row_id': 2, 'column_id': 6, 'value': 'Age Table', 'type': 'str'}, {'sheet_name': 'TemplateValidationMap', 'row_id': 3, 'column_id': 1, 'value': 'AgeGenderSheet', 'type': 'str'}, {'sheet_name': 'TemplateValidationMap', 'row_id': 3, 'column_id': 2, 'value': 'Ages', 'type': 'str'}, {'sheet_name': 'TemplateValidationMap', 'row_id': 3, 'column_id': 3, 'value': 'Age Table', 'type': 'str'}, {'sheet_name': 'TemplateValidationMap', 'row_id': 3, 'column_id': 4, 'value': 1, 'type': 'int'}, {'sheet_name': 'TemplateValidationMap', 'row_id': 3, 'column_id': 5, 'value': 1, 'type': 'int'}, {'sheet_name': 'TemplateValidationMap', 'row_id': 3, 'column_id': 6, 'value': 'Name', 'type': 'str'}, {'sheet_name': 'TemplateValidationMap', 'row_id': 4, 'column_id': 1, 'value': 'AgeGenderSheet', 'type': 'str'}, {'sheet_name': 'TemplateValidationMap', 'row_id': 4, 'column_id': 2, 'value': 'Ages', 'type': 'str'}, {'sheet_name': 'TemplateValidationMap', 'row_id': 4, 'column_id': 3, 'value': 'Age Table', 'type': 'str'}, {'sheet_name': 'TemplateValidationMap', 'row_id': 4, 'column_id': 4, 'value': 1, 'type': 'int'}, {'sheet_name': 'TemplateValidationMap', 'row_id': 4, 'column_id': 5, 'value': 2, 'type': 'int'}, {'sheet_name': 'TemplateValidationMap', 'row_id': 4, 'column_id': 6, 'value': 'Age', 'type': 'str'}, {'sheet_name': 'TemplateValidationMap', 'row_id': 5, 'column_id': 1, 'value': 'AgeGenderSheet', 'type': 'str'}, {'sheet_name': 'TemplateValidationMap', 'row_id': 5, 'column_id': 2, 'value': 'Genders', 'type': 'str'}, {'sheet_name': 'TemplateValidationMap', 'row_id': 5, 'column_id': 3, 'value': 'Gender Table', 'type': 'str'}, {'sheet_name': 'TemplateValidationMap', 'row_id': 5, 'column_id': 4, 'value': 0, 'type': 'int'}, {'sheet_name': 'TemplateValidationMap', 'row_id': 5, 'column_id': 5, 'value': 0, 'type': 'int'}, {'sheet_name': 'TemplateValidationMap', 'row_id': 5, 'column_id': 6, 'value': 'Gender Table', 'type': 'str'}, {'sheet_name': 'TemplateValidationMap', 'row_id': 6, 'column_id': 1, 'value': 'AgeGenderSheet', 'type': 'str'}, {'sheet_name': 'TemplateValidationMap', 'row_id': 6, 'column_id': 2, 'value': 'Genders', 'type': 'str'}, {'sheet_name': 'TemplateValidationMap', 'row_id': 6, 'column_id': 3, 'value': 'Gender Table', 'type': 'str'}, {'sheet_name': 'TemplateValidationMap', 'row_id': 6, 'column_id': 4, 'value': 1, 'type': 'int'}, {'sheet_name': 'TemplateValidationMap', 'row_id': 6, 'column_id': 5, 'value': 0, 'type': 'int'}, {'sheet_name': 'TemplateValidationMap', 'row_id': 6, 'column_id': 6, 'value': 'Name', 'type': 'str'}, {'sheet_name': 'TemplateValidationMap', 'row_id': 7, 'column_id': 1, 'value': 'AgeGenderSheet', 'type': 'str'}, {'sheet_name': 'TemplateValidationMap', 'row_id': 7, 'column_id': 2, 'value': 'Genders', 'type': 'str'}, {'sheet_name': 'TemplateValidationMap', 'row_id': 7, 'column_id': 3, 'value': 'Gender Table', 'type': 'str'}, {'sheet_name': 'TemplateValidationMap', 'row_id': 7, 'column_id': 4, 'value': 1, 'type': 'int'}, {'sheet_name': 'TemplateValidationMap', 'row_id': 7, 'column_id': 5, 'value': 1, 'type': 'int'}, {'sheet_name': 'TemplateValidationMap', 'row_id': 7, 'column_id': 6, 'value': 'Gender', 'type': 'str'}, {'sheet_name': 'TemplateValidationMap', 'row_id': 8, 'column_id': 1, 'value': 'AgeGenderSheet', 'type': 'str'}, {'sheet_name': 'TemplateValidationMap', 'row_id': 8, 'column_id': 2, 'value': 'DoB', 'type': 'str'}, {'sheet_name': 'TemplateValidationMap', 'row_id': 8, 'column_id': 3, 'value': 'DOB Table', 'type': 'str'}, {'sheet_name': 'TemplateValidationMap', 'row_id': 8, 'column_id': 4, 'value': 0, 'type': 'int'}, {'sheet_name': 'TemplateValidationMap', 'row_id': 8, 'column_id': 5, 'value': 0, 'type': 'int'}, {'sheet_name': 'TemplateValidationMap', 'row_id': 8, 'column_id': 6, 'value': 'DOB Table', 'type': 'str'}, {'sheet_name': 'TemplateValidationMap', 'row_id': 9, 'column_id': 1, 'value': 'AgeGenderSheet', 'type': 'str'}, {'sheet_name': 'TemplateValidationMap', 'row_id': 9, 'column_id': 2, 'value': 'DoB', 'type': 'str'}, {'sheet_name': 'TemplateValidationMap', 'row_id': 9, 'column_id': 3, 'value': 'DOB Table', 'type': 'str'}, {'sheet_name': 'TemplateValidationMap', 'row_id': 9, 'column_id': 4, 'value': 1, 'type': 'int'}, {'sheet_name': 'TemplateValidationMap', 'row_id': 9, 'column_id': 5, 'value': 0, 'type': 'int'}, {'sheet_name': 'TemplateValidationMap', 'row_id': 9, 'column_id': 6, 'value': 'Name', 'type': 'str'}, {'sheet_name': 'TemplateValidationMap', 'row_id': 10, 'column_id': 1, 'value': 'AgeGenderSheet', 'type': 'str'}, {'sheet_name': 'TemplateValidationMap', 'row_id': 10, 'column_id': 2, 'value': 'DoB', 'type': 'str'}, {'sheet_name': 'TemplateValidationMap', 'row_id': 10, 'column_id': 3, 'value': 'DOB Table', 'type': 'str'}, {'sheet_name': 'TemplateValidationMap', 'row_id': 10, 'column_id': 4, 'value': 2, 'type': 'int'}, {'sheet_name': 'TemplateValidationMap', 'row_id': 10, 'column_id': 5, 'value': 1, 'type': 'int'}, {'sheet_name': 'TemplateValidationMap', 'row_id': 10, 'column_id': 6, 'value': 'D.O.B', 'type': 'str'}, {'sheet_name': 'TemplateValidationMap', 'row_id': 11, 'column_id': 1, 'value': 'MaritalDepartmentSheet', 'type': 'str'}, {'sheet_name': 'TemplateValidationMap', 'row_id': 11, 'column_id': 2, 'value': 'Marital Status', 'type': 'str'}, {'sheet_name': 'TemplateValidationMap', 'row_id': 11, 'column_id': 3, 'value': 'Marital Status Table', 'type': 'str'}, {'sheet_name': 'TemplateValidationMap', 'row_id': 11, 'column_id': 4, 'value': 0, 'type': 'int'}, {'sheet_name': 'TemplateValidationMap', 'row_id': 11, 'column_id': 5, 'value': 0, 'type': 'int'}, {'sheet_name': 'TemplateValidationMap', 'row_id': 11, 'column_id': 6, 'value': 'Marital Status Table', 'type': 'str'}, {'sheet_name': 'TemplateValidationMap', 'row_id': 12, 'column_id': 1, 'value': 'MaritalDepartmentSheet', 'type': 'str'}, {'sheet_name': 'TemplateValidationMap', 'row_id': 12, 'column_id': 2, 'value': 'Marital Status', 'type': 'str'}, {'sheet_name': 'TemplateValidationMap', 'row_id': 12, 'column_id': 3, 'value': 'Marital Status Table', 'type': 'str'}, {'sheet_name': 'TemplateValidationMap', 'row_id': 12, 'column_id': 4, 'value': 1, 'type': 'int'}, {'sheet_name': 'TemplateValidationMap', 'row_id': 12, 'column_id': 5, 'value': 0, 'type': 'int'}, {'sheet_name': 'TemplateValidationMap', 'row_id': 12, 'column_id': 6, 'value': 'Name', 'type': 'str'}, {'sheet_name': 'TemplateValidationMap', 'row_id': 13, 'column_id': 1, 'value': 'MaritalDepartmentSheet', 'type': 'str'}, {'sheet_name': 'TemplateValidationMap', 'row_id': 13, 'column_id': 2, 'value': 'Marital Status', 'type': 'str'}, {'sheet_name': 'TemplateValidationMap', 'row_id': 13, 'column_id': 3, 'value': 'Marital Status Table', 'type': 'str'}, {'sheet_name': 'TemplateValidationMap', 'row_id': 13, 'column_id': 4, 'value': 1, 'type': 'int'}, {'sheet_name': 'TemplateValidationMap', 'row_id': 13, 'column_id': 5, 'value': 1, 'type': 'int'}, {'sheet_name': 'TemplateValidationMap', 'row_id': 13, 'column_id': 6, 'value': 'Status', 'type': 'str'}, {'sheet_name': 'TemplateValidationMap', 'row_id': 14, 'column_id': 1, 'value': 'MaritalDepartmentSheet', 'type': 'str'}, {'sheet_name': 'TemplateValidationMap', 'row_id': 14, 'column_id': 2, 'value': 'Department Table', 'type': 'str'}, {'sheet_name': 'TemplateValidationMap', 'row_id': 14, 'column_id': 3, 'value': 'Department Table', 'type': 'str'}, {'sheet_name': 'TemplateValidationMap', 'row_id': 14, 'column_id': 4, 'value': 0, 'type': 'int'}, {'sheet_name': 'TemplateValidationMap', 'row_id': 14, 'column_id': 5, 'value': 0, 'type': 'int'}, {'sheet_name': 'TemplateValidationMap', 'row_id': 14, 'column_id': 6, 'value': 'Department Table', 'type': 'str'}, {'sheet_name': 'TemplateValidationMap', 'row_id': 15, 'column_id': 1, 'value': 'MaritalDepartmentSheet', 'type': 'str'}, {'sheet_name': 'TemplateValidationMap', 'row_id': 15, 'column_id': 2, 'value': 'Department Table', 'type': 'str'}, {'sheet_name': 'TemplateValidationMap', 'row_id': 15, 'column_id': 3, 'value': 'Department Table', 'type': 'str'}, {'sheet_name': 'TemplateValidationMap', 'row_id': 15, 'column_id': 4, 'value': 1, 'type': 'int'}, {'sheet_name': 'TemplateValidationMap', 'row_id': 15, 'column_id': 5, 'value': 0, 'type': 'int'}, {'sheet_name': 'TemplateValidationMap', 'row_id': 15, 'column_id': 6, 'value': 'Name', 'type': 'str'}, {'sheet_name': 'TemplateValidationMap', 'row_id': 16, 'column_id': 1, 'value': 'MaritalDepartmentSheet', 'type': 'str'}, {'sheet_name': 'TemplateValidationMap', 'row_id': 16, 'column_id': 2, 'value': 'Department Table', 'type': 'str'}, {'sheet_name': 'TemplateValidationMap', 'row_id': 16, 'column_id': 3, 'value': 'Department Table', 'type': 'str'}, {'sheet_name': 'TemplateValidationMap', 'row_id': 16, 'column_id': 4, 'value': 1, 'type': 'int'}, {'sheet_name': 'TemplateValidationMap', 'row_id': 16, 'column_id': 5, 'value': 1, 'type': 'int'}, {'sheet_name': 'TemplateValidationMap', 'row_id': 16, 'column_id': 6, 'value': 'Department', 'type': 'str'}, {'sheet_name': 'TemplateValidationMap', 'row_id': 17, 'column_id': 1, 'value': 'JobSheet', 'type': 'str'}, {'sheet_name': 'TemplateValidationMap', 'row_id': 17, 'column_id': 2, 'value': 'Jobs', 'type': 'str'}, {'sheet_name': 'TemplateValidationMap', 'row_id': 17, 'column_id': 3, 'value': 'Job Description Table', 'type': 'str'}, {'sheet_name': 'TemplateValidationMap', 'row_id': 17, 'column_id': 4, 'value': 0, 'type': 'int'}, {'sheet_name': 'TemplateValidationMap', 'row_id': 17, 'column_id': 5, 'value': 0, 'type': 'int'}, {'sheet_name': 'TemplateValidationMap', 'row_id': 17, 'column_id': 6, 'value': 'Job Description Table', 'type': 'str'}, {'sheet_name': 'TemplateValidationMap', 'row_id': 18, 'column_id': 1, 'value': 'JobSheet', 'type': 'str'}, {'sheet_name': 'TemplateValidationMap', 'row_id': 18, 'column_id': 2, 'value': 'Jobs', 'type': 'str'}, {'sheet_name': 'TemplateValidationMap', 'row_id': 18, 'column_id': 3, 'value': 'Job Description Table', 'type': 'str'}, {'sheet_name': 'TemplateValidationMap', 'row_id': 18, 'column_id': 4, 'value': 1, 'type': 'int'}, {'sheet_name': 'TemplateValidationMap', 'row_id': 18, 'column_id': 5, 'value': 0, 'type': 'int'}, {'sheet_name': 'TemplateValidationMap', 'row_id': 18, 'column_id': 6, 'value': 'Job Title', 'type': 'str'}, {'sheet_name': 'TemplateValidationMap', 'row_id': 19, 'column_id': 1, 'value': 'JobSheet', 'type': 'str'}, {'sheet_name': 'TemplateValidationMap', 'row_id': 19, 'column_id': 2, 'value': 'Jobs', 'type': 'str'}, {'sheet_name': 'TemplateValidationMap', 'row_id': 19, 'column_id': 3, 'value': 'Job Description Table', 'type': 'str'}, {'sheet_name': 'TemplateValidationMap', 'row_id': 19, 'column_id': 4, 'value': 1, 'type': 'int'}, {'sheet_name': 'TemplateValidationMap', 'row_id': 19, 'column_id': 5, 'value': 1, 'type': 'int'}, {'sheet_name': 'TemplateValidationMap', 'row_id': 19, 'column_id': 6, 'value': 'Employee Name', 'type': 'str'}, {'sheet_name': 'TemplateValidationMap', 'row_id': 20, 'column_id': 1, 'value': 'JobSheet', 'type': 'str'}, {'sheet_name': 'TemplateValidationMap', 'row_id': 20, 'column_id': 2, 'value': 'Jobs', 'type': 'str'}, {'sheet_name': 'TemplateValidationMap', 'row_id': 20, 'column_id': 3, 'value': 'Job Description Table', 'type': 'str'}, {'sheet_name': 'TemplateValidationMap', 'row_id': 20, 'column_id': 4, 'value': 1, 'type': 'int'}, {'sheet_name': 'TemplateValidationMap', 'row_id': 20, 'column_id': 5, 'value': 2, 'type': 'int'}, {'sheet_name': 'TemplateValidationMap', 'row_id': 20, 'column_id': 6, 'value': 'ID', 'type': 'str'}, {'sheet_name': 'TemplateValidationMap', 'row_id': 21, 'column_id': 1, 'value': 'HomeSheet', 'type': 'str'}, {'sheet_name': 'TemplateValidationMap', 'row_id': 21, 'column_id': 2, 'value': 'HomeLocation', 'type': 'str'}, {'sheet_name': 'TemplateValidationMap', 'row_id': 21, 'column_id': 3, 'value': 'Home Location Table', 'type': 'str'}, {'sheet_name': 'TemplateValidationMap', 'row_id': 21, 'column_id': 4, 'value': 0, 'type': 'int'}, {'sheet_name': 'TemplateValidationMap', 'row_id': 21, 'column_id': 5, 'value': 0, 'type': 'int'}, {'sheet_name': 'TemplateValidationMap', 'row_id': 21, 'column_id': 6, 'value': 'Home Location Table', 'type': 'str'}, {'sheet_name': 'TemplateValidationMap', 'row_id': 22, 'column_id': 1, 'value': 'HomeSheet', 'type': 'str'}, {'sheet_name': 'TemplateValidationMap', 'row_id': 22, 'column_id': 2, 'value': 'HomeLocation', 'type': 'str'}, {'sheet_name': 'TemplateValidationMap', 'row_id': 22, 'column_id': 3, 'value': 'Home Location Table', 'type': 'str'}, {'sheet_name': 'TemplateValidationMap', 'row_id': 22, 'column_id': 4, 'value': 1, 'type': 'int'}, {'sheet_name': 'TemplateValidationMap', 'row_id': 22, 'column_id': 5, 'value': 0, 'type': 'int'}, {'sheet_name': 'TemplateValidationMap', 'row_id': 22, 'column_id': 6, 'value': 'Employee', 'type': 'str'}, {'sheet_name': 'TemplateValidationMap', 'row_id': 23, 'column_id': 1, 'value': 'HomeSheet', 'type': 'str'}, {'sheet_name': 'TemplateValidationMap', 'row_id': 23, 'column_id': 2, 'value': 'HomeLocation', 'type': 'str'}, {'sheet_name': 'TemplateValidationMap', 'row_id': 23, 'column_id': 3, 'value': 'Home Location Table', 'type': 'str'}, {'sheet_name': 'TemplateValidationMap', 'row_id': 23, 'column_id': 4, 'value': 1, 'type': 'int'}, {'sheet_name': 'TemplateValidationMap', 'row_id': 23, 'column_id': 5, 'value': 1, 'type': 'int'}, {'sheet_name': 'TemplateValidationMap', 'row_id': 23, 'column_id': 6, 'value': 'Location', 'type': 'str'}, {'sheet_name': 'DataSet', 'row_id': 1, 'column_id': 1, 'value': 'DataSetID', 'type': 'str'}, {'sheet_name': 'DataSet', 'row_id': 1, 'column_id': 2, 'value': 'SheetName', 'type': 'str'}, {'sheet_name': 'DataSet', 'row_id': 1, 'column_id': 3, 'value': 'ReferenceTextStart', 'type': 'str'}, {'sheet_name': 'DataSet', 'row_id': 1, 'column_id': 4, 'value': 'ReferenceTextEnd', 'type': 'str'}, {'sheet_name': 'DataSet', 'row_id': 1, 'column_id': 5, 'value': 'RowFromReferenceText', 'type': 'str'}, {'sheet_name': 'DataSet', 'row_id': 1, 'column_id': 6, 'value': 'ColumnFromReferenceText', 'type': 'str'}, {'sheet_name': 'DataSet', 'row_id': 1, 'column_id': 7, 'value': 'FieldPosition', 'type': 'str'}, {'sheet_name': 'DataSet', 'row_id': 1, 'column_id': 8, 'value': 'FieldID', 'type': 'str'}, {'sheet_name': 'DataSet', 'row_id': 1, 'column_id': 9, 'value': 'FieldDescription', 'type': 'str'}, {'sheet_name': 'DataSet', 'row_id': 1, 'column_id': 10, 'value': 'TableOrientation', 'type': 'str'}, {'sheet_name': 'DataSet', 'row_id': 2, 'column_id': 1, 'value': 'Ages', 'type': 'str'}, {'sheet_name': 'DataSet', 'row_id': 2, 'column_id': 2, 'value': 'AgeGenderSheet', 'type': 'str'}, {'sheet_name': 'DataSet', 'row_id': 2, 'column_id': 3, 'value': 'Age Table', 'type': 'str'}, {'sheet_name': 'DataSet', 'row_id': 2, 'column_id': 4, 'value': 'Gender Table', 'type': 'str'}, {'sheet_name': 'DataSet', 'row_id': 2, 'column_id': 5, 'value': 2, 'type': 'int'}, {'sheet_name': 'DataSet', 'row_id': 2, 'column_id': 6, 'value': 1, 'type': 'int'}, {'sheet_name': 'DataSet', 'row_id': 2, 'column_id': 7, 'value': 1, 'type': 'int'}, {'sheet_name': 'DataSet', 'row_id': 2, 'column_id': 8, 'value': 'Name', 'type': 'str'}, {'sheet_name': 'DataSet', 'row_id': 2, 'column_id': 9, 'value': 'Name', 'type': 'str'}, {'sheet_name': 'DataSet', 'row_id': 2, 'column_id': 10, 'value': 'Down', 'type': 'str'}, {'sheet_name': 'DataSet', 'row_id': 3, 'column_id': 1, 'value': 'Ages', 'type': 'str'}, {'sheet_name': 'DataSet', 'row_id': 3, 'column_id': 2, 'value': 'AgeGenderSheet', 'type': 'str'}, {'sheet_name': 'DataSet', 'row_id': 3, 'column_id': 3, 'value': 'Age Table', 'type': 'str'}, {'sheet_name': 'DataSet', 'row_id': 3, 'column_id': 4, 'value': 'Gender Table', 'type': 'str'}, {'sheet_name': 'DataSet', 'row_id': 3, 'column_id': 5, 'value': 2, 'type': 'int'}, {'sheet_name': 'DataSet', 'row_id': 3, 'column_id': 6, 'value': 2, 'type': 'int'}, {'sheet_name': 'DataSet', 'row_id': 3, 'column_id': 7, 'value': 2, 'type': 'int'}, {'sheet_name': 'DataSet', 'row_id': 3, 'column_id': 8, 'value': 'Age', 'type': 'str'}, {'sheet_name': 'DataSet', 'row_id': 3, 'column_id': 9, 'value': 'Age', 'type': 'str'}, {'sheet_name': 'DataSet', 'row_id': 3, 'column_id': 10, 'value': 'Down', 'type': 'str'}, {'sheet_name': 'DataSet', 'row_id': 4, 'column_id': 1, 'value': 'Genders', 'type': 'str'}, {'sheet_name': 'DataSet', 'row_id': 4, 'column_id': 2, 'value': 'AgeGenderSheet', 'type': 'str'}, {'sheet_name': 'DataSet', 'row_id': 4, 'column_id': 3, 'value': 'Gender Table', 'type': 'str'}, {'sheet_name': 'DataSet', 'row_id': 4, 'column_id': 4, 'value': 'DOB Table', 'type': 'str'}, {'sheet_name': 'DataSet', 'row_id': 4, 'column_id': 5, 'value': 2, 'type': 'int'}, {'sheet_name': 'DataSet', 'row_id': 4, 'column_id': 6, 'value': 0, 'type': 'int'}, {'sheet_name': 'DataSet', 'row_id': 4, 'column_id': 7, 'value': 1, 'type': 'int'}, {'sheet_name': 'DataSet', 'row_id': 4, 'column_id': 8, 'value': 'Name', 'type': 'str'}, {'sheet_name': 'DataSet', 'row_id': 4, 'column_id': 9, 'value': 'Name', 'type': 'str'}, {'sheet_name': 'DataSet', 'row_id': 4, 'column_id': 10, 'value': 'Down', 'type': 'str'}, {'sheet_name': 'DataSet', 'row_id': 5, 'column_id': 1, 'value': 'Genders', 'type': 'str'}, {'sheet_name': 'DataSet', 'row_id': 5, 'column_id': 2, 'value': 'AgeGenderSheet', 'type': 'str'}, {'sheet_name': 'DataSet', 'row_id': 5, 'column_id': 3, 'value': 'Gender Table', 'type': 'str'}, {'sheet_name': 'DataSet', 'row_id': 5, 'column_id': 4, 'value': 'DOB Table', 'type': 'str'}, {'sheet_name': 'DataSet', 'row_id': 5, 'column_id': 5, 'value': 2, 'type': 'int'}, {'sheet_name': 'DataSet', 'row_id': 5, 'column_id': 6, 'value': 1, 'type': 'int'}, {'sheet_name': 'DataSet', 'row_id': 5, 'column_id': 7, 'value': 2, 'type': 'int'}, {'sheet_name': 'DataSet', 'row_id': 5, 'column_id': 8, 'value': 'Gender', 'type': 'str'}, {'sheet_name': 'DataSet', 'row_id': 5, 'column_id': 9, 'value': 'Gender', 'type': 'str'}, {'sheet_name': 'DataSet', 'row_id': 5, 'column_id': 10, 'value': 'Down', 'type': 'str'}, {'sheet_name': 'DataSet', 'row_id': 6, 'column_id': 1, 'value': 'DoB', 'type': 'str'}, {'sheet_name': 'DataSet', 'row_id': 6, 'column_id': 2, 'value': 'AgeGenderSheet', 'type': 'str'}, {'sheet_name': 'DataSet', 'row_id': 6, 'column_id': 3, 'value': 'DOB Table', 'type': 'str'}, {'sheet_name': 'DataSet', 'row_id': 6, 'column_id': 5, 'value': 2, 'type': 'int'}, {'sheet_name': 'DataSet', 'row_id': 6, 'column_id': 6, 'value': 0, 'type': 'int'}, {'sheet_name': 'DataSet', 'row_id': 6, 'column_id': 7, 'value': 1, 'type': 'int'}, {'sheet_name': 'DataSet', 'row_id': 6, 'column_id': 8, 'value': 'Name', 'type': 'str'}, {'sheet_name': 'DataSet', 'row_id': 6, 'column_id': 9, 'value': 'Name', 'type': 'str'}, {'sheet_name': 'DataSet', 'row_id': 6, 'column_id': 10, 'value': 'Down', 'type': 'str'}, {'sheet_name': 'DataSet', 'row_id': 7, 'column_id': 1, 'value': 'DoB', 'type': 'str'}, {'sheet_name': 'DataSet', 'row_id': 7, 'column_id': 2, 'value': 'AgeGenderSheet', 'type': 'str'}, {'sheet_name': 'DataSet', 'row_id': 7, 'column_id': 3, 'value': 'DOB Table', 'type': 'str'}, {'sheet_name': 'DataSet', 'row_id': 7, 'column_id': 5, 'value': 2, 'type': 'int'}, {'sheet_name': 'DataSet', 'row_id': 7, 'column_id': 6, 'value': 1, 'type': 'int'}, {'sheet_name': 'DataSet', 'row_id': 7, 'column_id': 7, 'value': 2, 'type': 'int'}, {'sheet_name': 'DataSet', 'row_id': 7, 'column_id': 8, 'value': 'DoB', 'type': 'str'}, {'sheet_name': 'DataSet', 'row_id': 7, 'column_id': 9, 'value': 'D.O.B', 'type': 'str'}, {'sheet_name': 'DataSet', 'row_id': 7, 'column_id': 10, 'value': 'Down', 'type': 'str'}, {'sheet_name': 'DataSet', 'row_id': 8, 'column_id': 1, 'value': 'MaritalStatus', 'type': 'str'}, {'sheet_name': 'DataSet', 'row_id': 8, 'column_id': 2, 'value': 'MaritalDepartmentSheet', 'type': 'str'}, {'sheet_name': 'DataSet', 'row_id': 8, 'column_id': 3, 'value': 'Marital Status Table', 'type': 'str'}, {'sheet_name': 'DataSet', 'row_id': 8, 'column_id': 5, 'value': 2, 'type': 'int'}, {'sheet_name': 'DataSet', 'row_id': 8, 'column_id': 6, 'value': 0, 'type': 'int'}, {'sheet_name': 'DataSet', 'row_id': 8, 'column_id': 7, 'value': 1, 'type': 'int'}, {'sheet_name': 'DataSet', 'row_id': 8, 'column_id': 8, 'value': 'Name', 'type': 'str'}, {'sheet_name': 'DataSet', 'row_id': 8, 'column_id': 9, 'value': 'Name', 'type': 'str'}, {'sheet_name': 'DataSet', 'row_id': 9, 'column_id': 1, 'value': 'MaritalStatus', 'type': 'str'}, {'sheet_name': 'DataSet', 'row_id': 9, 'column_id': 2, 'value': 'MaritalDepartmentSheet', 'type': 'str'}, {'sheet_name': 'DataSet', 'row_id': 9, 'column_id': 3, 'value': 'Marital Status Table', 'type': 'str'}, {'sheet_name': 'DataSet', 'row_id': 9, 'column_id': 5, 'value': 2, 'type': 'int'}, {'sheet_name': 'DataSet', 'row_id': 9, 'column_id': 6, 'value': 1, 'type': 'int'}, {'sheet_name': 'DataSet', 'row_id': 9, 'column_id': 7, 'value': 2, 'type': 'int'}, {'sheet_name': 'DataSet', 'row_id': 9, 'column_id': 8, 'value': 'Status', 'type': 'str'}, {'sheet_name': 'DataSet', 'row_id': 9, 'column_id': 9, 'value': 'Status', 'type': 'str'}, {'sheet_name': 'DataSet', 'row_id': 10, 'column_id': 1, 'value': 'Department', 'type': 'str'}, {'sheet_name': 'DataSet', 'row_id': 10, 'column_id': 2, 'value': 'MaritalDepartmentSheet', 'type': 'str'}, {'sheet_name': 'DataSet', 'row_id': 10, 'column_id': 3, 'value': 'Department Table', 'type': 'str'}, {'sheet_name': 'DataSet', 'row_id': 10, 'column_id': 5, 'value': 2, 'type': 'int'}, {'sheet_name': 'DataSet', 'row_id': 10, 'column_id': 6, 'value': 0, 'type': 'int'}, {'sheet_name': 'DataSet', 'row_id': 10, 'column_id': 7, 'value': 1, 'type': 'int'}, {'sheet_name': 'DataSet', 'row_id': 10, 'column_id': 8, 'value': 'Name', 'type': 'str'}, {'sheet_name': 'DataSet', 'row_id': 10, 'column_id': 9, 'value': 'Name', 'type': 'str'}, {'sheet_name': 'DataSet', 'row_id': 11, 'column_id': 1, 'value': 'Department', 'type': 'str'}, {'sheet_name': 'DataSet', 'row_id': 11, 'column_id': 2, 'value': 'MaritalDepartmentSheet', 'type': 'str'}, {'sheet_name': 'DataSet', 'row_id': 11, 'column_id': 3, 'value': 'Department Table', 'type': 'str'}, {'sheet_name': 'DataSet', 'row_id': 11, 'column_id': 5, 'value': 2, 'type': 'int'}, {'sheet_name': 'DataSet', 'row_id': 11, 'column_id': 6, 'value': 1, 'type': 'int'}, {'sheet_name': 'DataSet', 'row_id': 11, 'column_id': 7, 'value': 2, 'type': 'int'}, {'sheet_name': 'DataSet', 'row_id': 11, 'column_id': 8, 'value': 'Department', 'type': 'str'}, {'sheet_name': 'DataSet', 'row_id': 11, 'column_id': 9, 'value': 'Department', 'type': 'str'}, {'sheet_name': 'DataSet', 'row_id': 12, 'column_id': 1, 'value': 'Jobs', 'type': 'str'}, {'sheet_name': 'DataSet', 'row_id': 12, 'column_id': 2, 'value': 'JobSheet', 'type': 'str'}, {'sheet_name': 'DataSet', 'row_id': 12, 'column_id': 3, 'value': 'Job Description Table', 'type': 'str'}, {'sheet_name': 'DataSet', 'row_id': 12, 'column_id': 5, 'value': 2, 'type': 'int'}, {'sheet_name': 'DataSet', 'row_id': 12, 'column_id': 6, 'value': 0, 'type': 'int'}, {'sheet_name': 'DataSet', 'row_id': 12, 'column_id': 7, 'value': 1, 'type': 'int'}, {'sheet_name': 'DataSet', 'row_id': 12, 'column_id': 8, 'value': 'Job_Title', 'type': 'str'}, {'sheet_name': 'DataSet', 'row_id': 12, 'column_id': 9, 'value': 'Job Title', 'type': 'str'}, {'sheet_name': 'DataSet', 'row_id': 13, 'column_id': 1, 'value': 'Jobs', 'type': 'str'}, {'sheet_name': 'DataSet', 'row_id': 13, 'column_id': 2, 'value': 'JobSheet', 'type': 'str'}, {'sheet_name': 'DataSet', 'row_id': 13, 'column_id': 3, 'value': 'Job Description Table', 'type': 'str'}, {'sheet_name': 'DataSet', 'row_id': 13, 'column_id': 5, 'value': 2, 'type': 'int'}, {'sheet_name': 'DataSet', 'row_id': 13, 'column_id': 6, 'value': 1, 'type': 'int'}, {'sheet_name': 'DataSet', 'row_id': 13, 'column_id': 7, 'value': 2, 'type': 'int'}, {'sheet_name': 'DataSet', 'row_id': 13, 'column_id': 8, 'value': 'Employee_Name', 'type': 'str'}, {'sheet_name': 'DataSet', 'row_id': 13, 'column_id': 9, 'value': 'Employee Name', 'type': 'str'}, {'sheet_name': 'DataSet', 'row_id': 14, 'column_id': 1, 'value': 'Jobs', 'type': 'str'}, {'sheet_name': 'DataSet', 'row_id': 14, 'column_id': 2, 'value': 'JobSheet', 'type': 'str'}, {'sheet_name': 'DataSet', 'row_id': 14, 'column_id': 3, 'value': 'Job Description Table', 'type': 'str'}, {'sheet_name': 'DataSet', 'row_id': 14, 'column_id': 5, 'value': 2, 'type': 'int'}, {'sheet_name': 'DataSet', 'row_id': 14, 'column_id': 6, 'value': 2, 'type': 'int'}, {'sheet_name': 'DataSet', 'row_id': 14, 'column_id': 7, 'value': 3, 'type': 'int'}, {'sheet_name': 'DataSet', 'row_id': 14, 'column_id': 8, 'value': 'ID', 'type': 'str'}, {'sheet_name': 'DataSet', 'row_id': 14, 'column_id': 9, 'value': 'ID', 'type': 'str'}, {'sheet_name': 'DataSet', 'row_id': 15, 'column_id': 1, 'value': 'HomeLocation', 'type': 'str'}, {'sheet_name': 'DataSet', 'row_id': 15, 'column_id': 2, 'value': 'HomeSheet', 'type': 'str'}, {'sheet_name': 'DataSet', 'row_id': 15, 'column_id': 3, 'value': 'Home Location Table', 'type': 'str'}, {'sheet_name': 'DataSet', 'row_id': 15, 'column_id': 5, 'value': 2, 'type': 'int'}, {'sheet_name': 'DataSet', 'row_id': 15, 'column_id': 6, 'value': 0, 'type': 'int'}, {'sheet_name': 'DataSet', 'row_id': 15, 'column_id': 7, 'value': 1, 'type': 'int'}, {'sheet_name': 'DataSet', 'row_id': 15, 'column_id': 8, 'value': 'Employee', 'type': 'str'}, {'sheet_name': 'DataSet', 'row_id': 15, 'column_id': 9, 'value': 'Employee', 'type': 'str'}, {'sheet_name': 'DataSet', 'row_id': 16, 'column_id': 1, 'value': 'HomeLocation', 'type': 'str'}, {'sheet_name': 'DataSet', 'row_id': 16, 'column_id': 2, 'value': 'HomeSheet', 'type': 'str'}, {'sheet_name': 'DataSet', 'row_id': 16, 'column_id': 3, 'value': 'Home Location Table', 'type': 'str'}, {'sheet_name': 'DataSet', 'row_id': 16, 'column_id': 5, 'value': 2, 'type': 'int'}, {'sheet_name': 'DataSet', 'row_id': 16, 'column_id': 6, 'value': 1, 'type': 'int'}, {'sheet_name': 'DataSet', 'row_id': 16, 'column_id': 7, 'value': 2, 'type': 'int'}, {'sheet_name': 'DataSet', 'row_id': 16, 'column_id': 8, 'value': 'Location', 'type': 'str'}, {'sheet_name': 'DataSet', 'row_id': 16, 'column_id': 9, 'value': 'Location', 'type': 'str'}, {'sheet_name': 'Rules', 'row_id': 1, 'column_id': 1, 'value': 'RuleID', 'type': 'str'}, {'sheet_name': 'Rules', 'row_id': 1, 'column_id': 2, 'value': 'DataSetID', 'type': 'str'}, {'sheet_name': 'Rules', 'row_id': 1, 'column_id': 3, 'value': 'FieldID', 'type': 'str'}, {'sheet_name': 'Rules', 'row_id': 1, 'column_id': 4, 'value': 'DataType', 'type': 'str'}, {'sheet_name': 'Rules', 'row_id': 1, 'column_id': 5, 'value': 'Format', 'type': 'str'}, {'sheet_name': 'Rules', 'row_id': 1, 'column_id': 6, 'value': 'RangeFrom', 'type': 'str'}, {'sheet_name': 'Rules', 'row_id': 1, 'column_id': 7, 'value': 'RangeTo', 'type': 'str'}, {'sheet_name': 'Rules', 'row_id': 1, 'column_id': 8, 'value': 'Null', 'type': 'str'}, {'sheet_name': 'Rules', 'row_id': 1, 'column_id': 9, 'value': 'Length', 'type': 'str'}, {'sheet_name': 'Rules', 'row_id': 1, 'column_id': 10, 'value': 'PickList', 'type': 'str'}, {'sheet_name': 'Rules', 'row_id': 1, 'column_id': 11, 'value': 'Rule1', 'type': 'str'}, {'sheet_name': 'Rules', 'row_id': 1, 'column_id': 12, 'value': 'Rule2', 'type': 'str'}, {'sheet_name': 'Rules', 'row_id': 1, 'column_id': 13, 'value': 'Rule3', 'type': 'str'}, {'sheet_name': 'Rules', 'row_id': 2, 'column_id': 1, 'value': 1, 'type': 'int'}, {'sheet_name': 'Rules', 'row_id': 2, 'column_id': 2, 'value': 'Ages', 'type': 'str'}, {'sheet_name': 'Rules', 'row_id': 2, 'column_id': 3, 'value': 'Name', 'type': 'str'}, {'sheet_name': 'Rules', 'row_id': 2, 'column_id': 4, 'value': 'Text', 'type': 'str'}, {'sheet_name': 'Rules', 'row_id': 2, 'column_id': 8, 'value': 'N', 'type': 'str'}, {'sheet_name': 'Rules', 'row_id': 3, 'column_id': 1, 'value': 2, 'type': 'int'}, {'sheet_name': 'Rules', 'row_id': 3, 'column_id': 2, 'value': 'Ages', 'type': 'str'}, {'sheet_name': 'Rules', 'row_id': 3, 'column_id': 3, 'value': 'Age', 'type': 'str'}, {'sheet_name': 'Rules', 'row_id': 3, 'column_id': 4, 'value': 'Number', 'type': 'str'}, {'sheet_name': 'Rules', 'row_id': 3, 'column_id': 8, 'value': 'N', 'type': 'str'}, {'sheet_name': 'Rules', 'row_id': 3, 'column_id': 11, 'value': 'Positive', 'type': 'str'}, {'sheet_name': 'Rules', 'row_id': 3, 'column_id': 12, 'value': 'GreaterThanTen', 'type': 'str'}, {'sheet_name': 'Rules', 'row_id': 4, 'column_id': 1, 'value': 3, 'type': 'int'}, {'sheet_name': 'Rules', 'row_id': 4, 'column_id': 2, 'value': 'Genders', 'type': 'str'}, {'sheet_name': 'Rules', 'row_id': 4, 'column_id': 3, 'value': 'Name', 'type': 'str'}, {'sheet_name': 'Rules', 'row_id': 4, 'column_id': 4, 'value': 'Text', 'type': 'str'}, {'sheet_name': 'Rules', 'row_id': 4, 'column_id': 8, 'value': 'N', 'type': 'str'}, {'sheet_name': 'Rules', 'row_id': 5, 'column_id': 1, 'value': 4, 'type': 'int'}, {'sheet_name': 'Rules', 'row_id': 5, 'column_id': 2, 'value': 'Genders', 'type': 'str'}, {'sheet_name': 'Rules', 'row_id': 5, 'column_id': 3, 'value': 'Gender', 'type': 'str'}, {'sheet_name': 'Rules', 'row_id': 5, 'column_id': 4, 'value': 'Text', 'type': 'str'}, {'sheet_name': 'Rules', 'row_id': 5, 'column_id': 8, 'value': 'N', 'type': 'str'}, {'sheet_name': 'Rules', 'row_id': 5, 'column_id': 10, 'value': 'Gender', 'type': 'str'}, {'sheet_name': 'Rules', 'row_id': 6, 'column_id': 1, 'value': 5, 'type': 'int'}, {'sheet_name': 'Rules', 'row_id': 6, 'column_id': 2, 'value': 'DoB', 'type': 'str'}, {'sheet_name': 'Rules', 'row_id': 6, 'column_id': 3, 'value': 'Name', 'type': 'str'}, {'sheet_name': 'Rules', 'row_id': 6, 'column_id': 4, 'value': 'Text', 'type': 'str'}, {'sheet_name': 'Rules', 'row_id': 6, 'column_id': 8, 'value': 'N', 'type': 'str'}, {'sheet_name': 'Rules', 'row_id': 7, 'column_id': 1, 'value': 6, 'type': 'int'}, {'sheet_name': 'Rules', 'row_id': 7, 'column_id': 2, 'value': 'DoB', 'type': 'str'}, {'sheet_name': 'Rules', 'row_id': 7, 'column_id': 3, 'value': 'DoB', 'type': 'str'}, {'sheet_name': 'Rules', 'row_id': 7, 'column_id': 4, 'value': 'Date', 'type': 'str'}, {'sheet_name': 'Rules', 'row_id': 7, 'column_id': 8, 'value': 'N', 'type': 'str'}, {'sheet_name': 'Rules', 'row_id': 8, 'column_id': 1, 'value': 7, 'type': 'int'}, {'sheet_name': 'Rules', 'row_id': 8, 'column_id': 2, 'value': 'MaritalStatus', 'type': 'str'}, {'sheet_name': 'Rules', 'row_id': 8, 'column_id': 3, 'value': 'Name', 'type': 'str'}, {'sheet_name': 'Rules', 'row_id': 8, 'column_id': 4, 'value': 'Text', 'type': 'str'}, {'sheet_name': 'Rules', 'row_id': 8, 'column_id': 8, 'value': 'N', 'type': 'str'}, {'sheet_name': 'Rules', 'row_id': 9, 'column_id': 1, 'value': 8, 'type': 'int'}, {'sheet_name': 'Rules', 'row_id': 9, 'column_id': 2, 'value': 'MaritalStatus', 'type': 'str'}, {'sheet_name': 'Rules', 'row_id': 9, 'column_id': 3, 'value': 'Status', 'type': 'str'}, {'sheet_name': 'Rules', 'row_id': 9, 'column_id': 4, 'value': 'Text', 'type': 'str'}, {'sheet_name': 'Rules', 'row_id': 9, 'column_id': 8, 'value': 'N', 'type': 'str'}, {'sheet_name': 'Rules', 'row_id': 9, 'column_id': 10, 'value': 'MaritalStatus', 'type': 'str'}, {'sheet_name': 'Rules', 'row_id': 10, 'column_id': 1, 'value': 9, 'type': 'int'}, {'sheet_name': 'Rules', 'row_id': 10, 'column_id': 2, 'value': 'DepartmentTable', 'type': 'str'}, {'sheet_name': 'Rules', 'row_id': 10, 'column_id': 3, 'value': 'Name', 'type': 'str'}, {'sheet_name': 'Rules', 'row_id': 10, 'column_id': 4, 'value': 'Text', 'type': 'str'}, {'sheet_name': 'Rules', 'row_id': 10, 'column_id': 8, 'value': 'N', 'type': 'str'}, {'sheet_name': 'Rules', 'row_id': 11, 'column_id': 1, 'value': 10, 'type': 'int'}, {'sheet_name': 'Rules', 'row_id': 11, 'column_id': 2, 'value': 'DepartmentTable', 'type': 'str'}, {'sheet_name': 'Rules', 'row_id': 11, 'column_id': 3, 'value': 'Department', 'type': 'str'}, {'sheet_name': 'Rules', 'row_id': 11, 'column_id': 4, 'value': 'Text', 'type': 'str'}, {'sheet_name': 'Rules', 'row_id': 11, 'column_id': 8, 'value': 'N', 'type': 'str'}, {'sheet_name': 'Rules', 'row_id': 12, 'column_id': 1, 'value': 11, 'type': 'int'}, {'sheet_name': 'Rules', 'row_id': 12, 'column_id': 2, 'value': 'Jobs', 'type': 'str'}, {'sheet_name': 'Rules', 'row_id': 12, 'column_id': 3, 'value': 'Job_Title', 'type': 'str'}, {'sheet_name': 'Rules', 'row_id': 12, 'column_id': 4, 'value': 'Text', 'type': 'str'}, {'sheet_name': 'Rules', 'row_id': 12, 'column_id': 8, 'value': 'N', 'type': 'str'}, {'sheet_name': 'Rules', 'row_id': 13, 'column_id': 1, 'value': 12, 'type': 'int'}, {'sheet_name': 'Rules', 'row_id': 13, 'column_id': 2, 'value': 'Jobs', 'type': 'str'}, {'sheet_name': 'Rules', 'row_id': 13, 'column_id': 3, 'value': 'Employee_Name', 'type': 'str'}, {'sheet_name': 'Rules', 'row_id': 13, 'column_id': 4, 'value': 'Text', 'type': 'str'}, {'sheet_name': 'Rules', 'row_id': 13, 'column_id': 8, 'value': 'N', 'type': 'str'}, {'sheet_name': 'Rules', 'row_id': 14, 'column_id': 1, 'value': 13, 'type': 'int'}, {'sheet_name': 'Rules', 'row_id': 14, 'column_id': 2, 'value': 'Jobs', 'type': 'str'}, {'sheet_name': 'Rules', 'row_id': 14, 'column_id': 3, 'value': 'ID', 'type': 'str'}, {'sheet_name': 'Rules', 'row_id': 14, 'column_id': 4, 'value': 'Number', 'type': 'str'}, {'sheet_name': 'Rules', 'row_id': 14, 'column_id': 8, 'value': 'N', 'type': 'str'}, {'sheet_name': 'Rules', 'row_id': 15, 'column_id': 1, 'value': 14, 'type': 'int'}, {'sheet_name': 'Rules', 'row_id': 15, 'column_id': 2, 'value': 'HomeLocation', 'type': 'str'}, {'sheet_name': 'Rules', 'row_id': 15, 'column_id': 3, 'value': 'Employee', 'type': 'str'}, {'sheet_name': 'Rules', 'row_id': 15, 'column_id': 4, 'value': 'Text', 'type': 'str'}, {'sheet_name': 'Rules', 'row_id': 15, 'column_id': 8, 'value': 'N', 'type': 'str'}, {'sheet_name': 'Rules', 'row_id': 16, 'column_id': 1, 'value': 15, 'type': 'int'}, {'sheet_name': 'Rules', 'row_id': 16, 'column_id': 2, 'value': 'HomeLocation', 'type': 'str'}, {'sheet_name': 'Rules', 'row_id': 16, 'column_id': 3, 'value': 'Location', 'type': 'str'}, {'sheet_name': 'Rules', 'row_id': 16, 'column_id': 4, 'value': 'Text', 'type': 'str'}, {'sheet_name': 'Rules', 'row_id': 16, 'column_id': 8, 'value': 'N', 'type': 'str'}, {'sheet_name': 'Rules', 'row_id': 16, 'column_id': 10, 'value': 'HomeLocation', 'type': 'str'}, {'sheet_name': 'Palette', 'row_id': 1, 'column_id': 1, 'value': 'KeyWord', 'type': 'str'}, {'sheet_name': 'Palette', 'row_id': 1, 'column_id': 2, 'value': 'Rule', 'type': 'str'}, {'sheet_name': 'Palette', 'row_id': 1, 'column_id': 3, 'value': 'CheckPerformed', 'type': 'str'}, {'sheet_name': 'Palette', 'row_id': 1, 'column_id': 4, 'value': 'ErrorMessage', 'type': 'str'}, {'sheet_name': 'Palette', 'row_id': 1, 'column_id': 5, 'value': 'AlteryxDataType', 'type': 'str'}, {'sheet_name': 'Palette', 'row_id': 1, 'column_id': 6, 'value': 'AlteryxFormula', 'type': 'str'}, {'sheet_name': 'Palette', 'row_id': 1, 'column_id': 7, 'value': 'RemedialAction', 'type': 'str'}, {'sheet_name': 'Palette', 'row_id': 1, 'column_id': 8, 'value': 'SQLFormula', 'type': 'str'}, {'sheet_name': 'Palette', 'row_id': 1, 'column_id': 9, 'value': 'PythonFormula', 'type': 'str'}, {'sheet_name': 'Palette', 'row_id': 2, 'column_id': 1, 'value': 'Date', 'type': 'str'}, {'sheet_name': 'Palette', 'row_id': 2, 'column_id': 2, 'value': 'Must Be Date', 'type': 'str'}, {'sheet_name': 'Palette', 'row_id': 2, 'column_id': 3, 'value': 'Data Type is Date', 'type': 'str'}, {'sheet_name': 'Palette', 'row_id': 2, 'column_id': 4, 'value': 'Date Not Entered', 'type': 'str'}, {'sheet_name': 'Palette', 'row_id': 2, 'column_id': 5, 'value': 'Date', 'type': 'str'}, {'sheet_name': 'Palette', 'row_id': 2, 'column_id': 6, 'value': 'Length([CellValue]) > 0 and [CellType] = \"Date\"', 'type': 'str'}, {'sheet_name': 'Palette', 'row_id': 2, 'column_id': 7, 'value': 'Enter Date', 'type': 'str'}, {'sheet_name': 'Palette', 'row_id': 2, 'column_id': 8, 'value': \"case when IsNULL([CellValue],'XX') = 'XX' then 1 when [CellType] = 'Date' then 1 else 0 end\", 'type': 'str'}, {'sheet_name': 'Palette', 'row_id': 2, 'column_id': 9, 'value': \"np.where(dataset['CellType'] == 'Date', 1, 0)\", 'type': 'str'}, {'sheet_name': 'Palette', 'row_id': 3, 'column_id': 1, 'value': 'Number', 'type': 'str'}, {'sheet_name': 'Palette', 'row_id': 3, 'column_id': 2, 'value': 'Must Be Number', 'type': 'str'}, {'sheet_name': 'Palette', 'row_id': 3, 'column_id': 3, 'value': 'Data Type is Number', 'type': 'str'}, {'sheet_name': 'Palette', 'row_id': 3, 'column_id': 4, 'value': 'Number Not Entered', 'type': 'str'}, {'sheet_name': 'Palette', 'row_id': 3, 'column_id': 5, 'value': 'Double', 'type': 'str'}, {'sheet_name': 'Palette', 'row_id': 3, 'column_id': 6, 'value': 'Length([CellValue]) > 0 and [CellType] = \"Number\"', 'type': 'str'}, {'sheet_name': 'Palette', 'row_id': 3, 'column_id': 7, 'value': 'Enter Number', 'type': 'str'}, {'sheet_name': 'Palette', 'row_id': 3, 'column_id': 8, 'value': \"case when IsNULL([CellValue],'XX') = 'XX' then 1 when [CellType] = 'Number' then 1 else 0 end\", 'type': 'str'}, {'sheet_name': 'Palette', 'row_id': 3, 'column_id': 9, 'value': \"np.where(dataset['CellType'] == 'Number', 1, 0)\", 'type': 'str'}, {'sheet_name': 'Palette', 'row_id': 4, 'column_id': 1, 'value': 'Text', 'type': 'str'}, {'sheet_name': 'Palette', 'row_id': 4, 'column_id': 2, 'value': 'Must Be Text', 'type': 'str'}, {'sheet_name': 'Palette', 'row_id': 4, 'column_id': 3, 'value': 'Data Type is Text', 'type': 'str'}, {'sheet_name': 'Palette', 'row_id': 4, 'column_id': 4, 'value': 'Text Not Entered', 'type': 'str'}, {'sheet_name': 'Palette', 'row_id': 4, 'column_id': 5, 'value': 'V_String', 'type': 'str'}, {'sheet_name': 'Palette', 'row_id': 4, 'column_id': 6, 'value': 'Length([CellValue]) > 0 and Contains([CellType],\"Text\")', 'type': 'str'}, {'sheet_name': 'Palette', 'row_id': 4, 'column_id': 7, 'value': 'Enter as Text', 'type': 'str'}, {'sheet_name': 'Palette', 'row_id': 4, 'column_id': 8, 'value': \"case when IsNULL([CellValue],'XX') = 'XX' then 1 when [CellType] = 'Text' then 1 else 0 end\", 'type': 'str'}, {'sheet_name': 'Palette', 'row_id': 4, 'column_id': 9, 'value': \"np.where(dataset['CellType'] == 'Text', 1, 0)\", 'type': 'str'}, {'sheet_name': 'Palette', 'row_id': 5, 'column_id': 1, 'value': 'NotNull', 'type': 'str'}, {'sheet_name': 'Palette', 'row_id': 5, 'column_id': 2, 'value': 'Must Not Be Null', 'type': 'str'}, {'sheet_name': 'Palette', 'row_id': 5, 'column_id': 3, 'value': 'Field cannot be Null', 'type': 'str'}, {'sheet_name': 'Palette', 'row_id': 5, 'column_id': 4, 'value': 'No Data in Field', 'type': 'str'}, {'sheet_name': 'Palette', 'row_id': 5, 'column_id': 6, 'value': 'Length([CellValue]) > 0', 'type': 'str'}, {'sheet_name': 'Palette', 'row_id': 5, 'column_id': 7, 'value': 'Enter Required Data', 'type': 'str'}, {'sheet_name': 'Palette', 'row_id': 5, 'column_id': 8, 'value': \"case when IsNULL([CellValue],'XX') != 'XX' then 1 else 0 end\", 'type': 'str'}, {'sheet_name': 'Palette', 'row_id': 5, 'column_id': 9, 'value': \"dataset['CellValue'].isnull().map({True: 0, False: 1})\", 'type': 'str'}, {'sheet_name': 'Palette', 'row_id': 6, 'column_id': 1, 'value': '1OrGreater', 'type': 'str'}, {'sheet_name': 'Palette', 'row_id': 6, 'column_id': 2, 'value': 'Must be 1 or greater', 'type': 'str'}, {'sheet_name': 'Palette', 'row_id': 6, 'column_id': 3, 'value': 'Number is 1 or greater', 'type': 'str'}, {'sheet_name': 'Palette', 'row_id': 6, 'column_id': 4, 'value': 'Number is below 1', 'type': 'str'}, {'sheet_name': 'Palette', 'row_id': 6, 'column_id': 6, 'value': 'ToNumber([CellValue])>=1', 'type': 'str'}, {'sheet_name': 'Palette', 'row_id': 6, 'column_id': 7, 'value': 'Enter value 1 or greater', 'type': 'str'}, {'sheet_name': 'Palette', 'row_id': 6, 'column_id': 8, 'value': 'case when TRY_CAST([CellValue] as INT)>=1 then 1 else 0 end', 'type': 'str'}, {'sheet_name': 'Palette', 'row_id': 7, 'column_id': 1, 'value': 'Positive', 'type': 'str'}, {'sheet_name': 'Palette', 'row_id': 7, 'column_id': 2, 'value': 'Must Be Positive', 'type': 'str'}, {'sheet_name': 'Palette', 'row_id': 7, 'column_id': 3, 'value': 'Number is Positive', 'type': 'str'}, {'sheet_name': 'Palette', 'row_id': 7, 'column_id': 4, 'value': 'Number Not Positive', 'type': 'str'}, {'sheet_name': 'Palette', 'row_id': 7, 'column_id': 6, 'value': 'ToNumber([CellValue])>=0', 'type': 'str'}, {'sheet_name': 'Palette', 'row_id': 7, 'column_id': 7, 'value': 'Enter Positive Number', 'type': 'str'}, {'sheet_name': 'Palette', 'row_id': 7, 'column_id': 8, 'value': 'case when TRY_CAST([CellValue] as INT)>0 then 1 else 0 end', 'type': 'str'}, {'sheet_name': 'Palette', 'row_id': 7, 'column_id': 9, 'value': \"np.where(dataset['CellValueAsNumber'] > 0, 1, 0)\", 'type': 'str'}, {'sheet_name': 'Palette', 'row_id': 8, 'column_id': 1, 'value': 'NotNegative', 'type': 'str'}, {'sheet_name': 'Palette', 'row_id': 8, 'column_id': 2, 'value': 'Must Not Be Negative', 'type': 'str'}, {'sheet_name': 'Palette', 'row_id': 8, 'column_id': 3, 'value': 'Number is Not Negative', 'type': 'str'}, {'sheet_name': 'Palette', 'row_id': 8, 'column_id': 4, 'value': 'Number is Negative', 'type': 'str'}, {'sheet_name': 'Palette', 'row_id': 8, 'column_id': 6, 'value': 'ToNumber([CellValue])>-1', 'type': 'str'}, {'sheet_name': 'Palette', 'row_id': 8, 'column_id': 7, 'value': 'Enter Non Negative Number', 'type': 'str'}, {'sheet_name': 'Palette', 'row_id': 8, 'column_id': 8, 'value': 'case when TRY_CAST([CellValue] as INT)>-1 then 1 else 0 end', 'type': 'str'}, {'sheet_name': 'Palette', 'row_id': 9, 'column_id': 1, 'value': 'FieldSizeMaximum', 'type': 'str'}, {'sheet_name': 'Palette', 'row_id': 9, 'column_id': 2, 'value': 'Cannot Exceed Length', 'type': 'str'}, {'sheet_name': 'Palette', 'row_id': 9, 'column_id': 3, 'value': 'Field Limit Checked', 'type': 'str'}, {'sheet_name': 'Palette', 'row_id': 9, 'column_id': 4, 'value': 'Data in Field Too Large', 'type': 'str'}, {'sheet_name': 'Palette', 'row_id': 9, 'column_id': 6, 'value': 'Length([CellValue]) <= ToNumber([Length])', 'type': 'str'}, {'sheet_name': 'Palette', 'row_id': 9, 'column_id': 7, 'value': 'Decrease Size of Entry', 'type': 'str'}, {'sheet_name': 'Palette', 'row_id': 9, 'column_id': 8, 'value': 'case when Len([CellValue]) <= TRY_CAST([Length] as INT)  then 1 else 0 end', 'type': 'str'}, {'sheet_name': 'Palette', 'row_id': 10, 'column_id': 1, 'value': 'FieldSizeMinimum', 'type': 'str'}, {'sheet_name': 'Palette', 'row_id': 10, 'column_id': 2, 'value': 'Must Exceed Length', 'type': 'str'}, {'sheet_name': 'Palette', 'row_id': 10, 'column_id': 3, 'value': 'Minimum Field Size Checked', 'type': 'str'}, {'sheet_name': 'Palette', 'row_id': 10, 'column_id': 4, 'value': 'Data in Field Too Small', 'type': 'str'}, {'sheet_name': 'Palette', 'row_id': 10, 'column_id': 6, 'value': 'Length([CellValue]) >=  ToNumber([Length])', 'type': 'str'}, {'sheet_name': 'Palette', 'row_id': 10, 'column_id': 7, 'value': 'Increase Size of Entry', 'type': 'str'}, {'sheet_name': 'Palette', 'row_id': 10, 'column_id': 8, 'value': 'case when Len([CellValue]) >= TRY_CAST([Length] as INT)  then 1 else 0 end', 'type': 'str'}, {'sheet_name': 'Palette', 'row_id': 11, 'column_id': 1, 'value': 'FieldSizeLength', 'type': 'str'}, {'sheet_name': 'Palette', 'row_id': 11, 'column_id': 2, 'value': 'Must Be Exact Length', 'type': 'str'}, {'sheet_name': 'Palette', 'row_id': 11, 'column_id': 3, 'value': 'Checked Exact Field Size', 'type': 'str'}, {'sheet_name': 'Palette', 'row_id': 11, 'column_id': 4, 'value': 'Data Entered Wrong Size', 'type': 'str'}, {'sheet_name': 'Palette', 'row_id': 11, 'column_id': 6, 'value': 'Length([CellValue]) =  ToNumber([Length])', 'type': 'str'}, {'sheet_name': 'Palette', 'row_id': 11, 'column_id': 7, 'value': 'Enter Correctly Sized Data', 'type': 'str'}, {'sheet_name': 'Palette', 'row_id': 11, 'column_id': 8, 'value': 'case when Len([CellValue]) = TRY_CAST([Length] as INT)  then 1 else 0 end', 'type': 'str'}, {'sheet_name': 'Palette', 'row_id': 12, 'column_id': 1, 'value': 'PickList', 'type': 'str'}, {'sheet_name': 'Palette', 'row_id': 12, 'column_id': 2, 'value': 'Must Be in Picklist', 'type': 'str'}, {'sheet_name': 'Palette', 'row_id': 12, 'column_id': 3, 'value': 'Validate to Picklist', 'type': 'str'}, {'sheet_name': 'Palette', 'row_id': 12, 'column_id': 4, 'value': 'Value Not in Picklist', 'type': 'str'}, {'sheet_name': 'Palette', 'row_id': 12, 'column_id': 6, 'value': 'Contains([ListValues],[CellValue])', 'type': 'str'}, {'sheet_name': 'Palette', 'row_id': 12, 'column_id': 7, 'value': 'Enter Using Picklist', 'type': 'str'}, {'sheet_name': 'Palette', 'row_id': 12, 'column_id': 8, 'value': 'case when CHARINDEX([CellValue],[PicklistValues]) > 0 then 1 else 0 end', 'type': 'str'}, {'sheet_name': 'Palette', 'row_id': 13, 'column_id': 1, 'value': 'Pattern', 'type': 'str'}, {'sheet_name': 'Palette', 'row_id': 13, 'column_id': 2, 'value': 'Must Match Pattern', 'type': 'str'}, {'sheet_name': 'Palette', 'row_id': 13, 'column_id': 3, 'value': 'Validate to Pattern', 'type': 'str'}, {'sheet_name': 'Palette', 'row_id': 13, 'column_id': 4, 'value': 'Value Not Match Pattern', 'type': 'str'}, {'sheet_name': 'Palette', 'row_id': 13, 'column_id': 6, 'value': 'REGEX_Match([CellValue],\"\\\\u\\\\u\\\\d\\\\d\\\\u\\\\u\\\\u\")', 'type': 'str'}, {'sheet_name': 'Palette', 'row_id': 13, 'column_id': 7, 'value': 'Enter Matching Pattern', 'type': 'str'}, {'sheet_name': 'Palette', 'row_id': 13, 'column_id': 8, 'value': \"case when CellValue LIKE '[A-Z][A-Z][0-9][0-9][A-Z][A-Z][A-Z]' then 1 else 0 end\", 'type': 'str'}, {'sheet_name': 'Palette', 'row_id': 14, 'column_id': 1, 'value': 'DateRange', 'type': 'str'}, {'sheet_name': 'Palette', 'row_id': 14, 'column_id': 2, 'value': 'Must Be in Range', 'type': 'str'}, {'sheet_name': 'Palette', 'row_id': 14, 'column_id': 3, 'value': 'Date Range Checked', 'type': 'str'}, {'sheet_name': 'Palette', 'row_id': 14, 'column_id': 4, 'value': 'Date Outside Range', 'type': 'str'}, {'sheet_name': 'Palette', 'row_id': 14, 'column_id': 6, 'value': 'DateTimeParse([CellValue],\"%Y-%m-%d\") > DateTimeParse([RangeFrom],\"%Y-%m-%d\") and DateTimeParse([CellValue],\"%Y-%m-%d\") < DateTimeParse([RangeTo],\"%Y-%m-%d\")', 'type': 'str'}, {'sheet_name': 'Palette', 'row_id': 14, 'column_id': 7, 'value': 'Enter Date in Range', 'type': 'str'}, {'sheet_name': 'Palette', 'row_id': 14, 'column_id': 8, 'value': 'case when TRY_CAST([CellValue] as date) > TRY_CAST([RangeFrom] as date) and TRY_CAST([CellValue] as date) < TRY_CAST([RangeTo] as date)\\nthen 1 else 0 end', 'type': 'str'}, {'sheet_name': 'Palette', 'row_id': 15, 'column_id': 1, 'value': 'IsAllAlphaNumeric', 'type': 'str'}, {'sheet_name': 'Palette', 'row_id': 15, 'column_id': 2, 'value': 'Only Contain Alpha Numerics', 'type': 'str'}, {'sheet_name': 'Palette', 'row_id': 15, 'column_id': 3, 'value': 'Data is Alpha Numeric', 'type': 'str'}, {'sheet_name': 'Palette', 'row_id': 15, 'column_id': 4, 'value': 'Data Not Alpha Numeric', 'type': 'str'}, {'sheet_name': 'Palette', 'row_id': 15, 'column_id': 6, 'value': 'REGEX_Match([CellValue],\"\\\\w+\")', 'type': 'str'}, {'sheet_name': 'Palette', 'row_id': 15, 'column_id': 7, 'value': 'Enter Alpha Numeric Data', 'type': 'str'}, {'sheet_name': 'Palette', 'row_id': 15, 'column_id': 8, 'value': \"case when [CellValue] LIKE '%[^a-z0-9A-Z]%' then 1 else 0 end\", 'type': 'str'}, {'sheet_name': 'Palette', 'row_id': 16, 'column_id': 1, 'value': 'Email', 'type': 'str'}, {'sheet_name': 'Palette', 'row_id': 16, 'column_id': 2, 'value': 'Must be Email Address', 'type': 'str'}, {'sheet_name': 'Palette', 'row_id': 16, 'column_id': 3, 'value': 'Data is Formatted as Email address', 'type': 'str'}, {'sheet_name': 'Palette', 'row_id': 16, 'column_id': 4, 'value': 'Data not in email address format', 'type': 'str'}, {'sheet_name': 'Palette', 'row_id': 16, 'column_id': 6, 'value': 'REGEX_Match([CellValue],\"[\\\\.\\\\w-]+)@((?:[\\\\w-]+\\\\.)+)([a-zA-Z]{2,4}\")', 'type': 'str'}, {'sheet_name': 'Palette', 'row_id': 16, 'column_id': 7, 'value': 'Enter a full email address', 'type': 'str'}, {'sheet_name': 'Palette', 'row_id': 16, 'column_id': 8, 'value': \"case when [CellValue] LIKE '%[^a-z0-9A-Z@]%' then 1 else 0 end\", 'type': 'str'}, {'sheet_name': 'Palette', 'row_id': 17, 'column_id': 1, 'value': 'ShortPostCode', 'type': 'str'}, {'sheet_name': 'Palette', 'row_id': 17, 'column_id': 2, 'value': 'Must contain only the first part of the Post Code', 'type': 'str'}, {'sheet_name': 'Palette', 'row_id': 17, 'column_id': 3, 'value': 'Length >1 AND length <5 AND First character must be alphabetical (not number or symbol) AND last character must be number', 'type': 'str'}, {'sheet_name': 'Palette', 'row_id': 17, 'column_id': 4, 'value': 'Postcode Entered Incorrectly', 'type': 'str'}, {'sheet_name': 'Palette', 'row_id': 17, 'column_id': 6, 'value': 'Length([CellValue]) <= ToNumber([RangeTo]) AND Length([CellValue]) >= ToNumber([RangeFrom])', 'type': 'str'}, {'sheet_name': 'Palette', 'row_id': 17, 'column_id': 7, 'value': 'Enter only first section of Postcode', 'type': 'str'}, {'sheet_name': 'Palette', 'row_id': 17, 'column_id': 8, 'value': 'case when Len([CellValue]) <= TRY_CAST([RangeTo] as INT) AND Len([CellValue]) >= TRY_CAST([RangeFrom] as INT) then 1 else 0 end as Result', 'type': 'str'}, {'sheet_name': 'Palette', 'row_id': 18, 'column_id': 1, 'value': 'GreaterThanRangeFrom', 'type': 'str'}, {'sheet_name': 'Palette', 'row_id': 18, 'column_id': 2, 'value': 'Greater than RangeFrom', 'type': 'str'}, {'sheet_name': 'Palette', 'row_id': 18, 'column_id': 3, 'value': 'Greater than RangeFrom', 'type': 'str'}, {'sheet_name': 'Palette', 'row_id': 18, 'column_id': 4, 'value': 'Value too low', 'type': 'str'}, {'sheet_name': 'Palette', 'row_id': 18, 'column_id': 6, 'value': 'ToNumber([CellValue])>=ToNumber([RangeFrom])', 'type': 'str'}, {'sheet_name': 'Palette', 'row_id': 18, 'column_id': 7, 'value': 'Value must be larger', 'type': 'str'}, {'sheet_name': 'Palette', 'row_id': 18, 'column_id': 8, 'value': 'case when Len([CellValue]) >= TRY_CAST([RangeFrom] as INT) then 1 else 0 end as Result', 'type': 'str'}, {'sheet_name': 'Palette', 'row_id': 19, 'column_id': 1, 'value': 'Less', 'type': 'str'}, {'sheet_name': 'Palette', 'row_id': 19, 'column_id': 2, 'value': 'Less than RangeTo', 'type': 'str'}, {'sheet_name': 'Palette', 'row_id': 19, 'column_id': 3, 'value': 'Less than RangeTo', 'type': 'str'}, {'sheet_name': 'Palette', 'row_id': 19, 'column_id': 4, 'value': 'Value too high', 'type': 'str'}, {'sheet_name': 'Palette', 'row_id': 19, 'column_id': 6, 'value': 'ToNumber([CellValue])<=ToNumber([RangeTo])', 'type': 'str'}, {'sheet_name': 'Palette', 'row_id': 19, 'column_id': 7, 'value': 'Value must be smaller', 'type': 'str'}, {'sheet_name': 'Palette', 'row_id': 19, 'column_id': 8, 'value': 'case when Len([CellValue]) <= TRY_CAST([RangeTo] as INT) then 1 else 0 end as Result', 'type': 'str'}, {'sheet_name': 'Palette', 'row_id': 20, 'column_id': 1, 'value': 'PostCode', 'type': 'str'}, {'sheet_name': 'Palette', 'row_id': 20, 'column_id': 2, 'value': 'Must be PostCode format', 'type': 'str'}, {'sheet_name': 'Palette', 'row_id': 20, 'column_id': 3, 'value': 'CellValue formatted as PostCode', 'type': 'str'}, {'sheet_name': 'Palette', 'row_id': 20, 'column_id': 4, 'value': 'Not a PostCode', 'type': 'str'}, {'sheet_name': 'Palette', 'row_id': 20, 'column_id': 6, 'value': 'Length([CellValue]) <= ToNumber([RangeTo]) AND Length([CellValue]) >= ToNumber([RangeFrom])', 'type': 'str'}, {'sheet_name': 'Palette', 'row_id': 20, 'column_id': 7, 'value': 'Enter a full PostCode', 'type': 'str'}, {'sheet_name': 'Palette', 'row_id': 20, 'column_id': 8, 'value': 'case when Len([CellValue]) <= TRY_CAST([RangeTo] as INT) AND Len([CellValue]) >= TRY_CAST([RangeFrom] as INT) then 1 else 0 end as Result', 'type': 'str'}, {'sheet_name': 'Palette', 'row_id': 21, 'column_id': 1, 'value': 'NoDayInDoB', 'type': 'str'}, {'sheet_name': 'Palette', 'row_id': 21, 'column_id': 2, 'value': 'No Day entered in DoB', 'type': 'str'}, {'sheet_name': 'Palette', 'row_id': 21, 'column_id': 3, 'value': 'Check that 01 is only day value', 'type': 'str'}, {'sheet_name': 'Palette', 'row_id': 21, 'column_id': 4, 'value': 'Day of month entered in DoB', 'type': 'str'}, {'sheet_name': 'Palette', 'row_id': 21, 'column_id': 6, 'value': 'DateTimeDay([CellValue]) = 1', 'type': 'str'}, {'sheet_name': 'Palette', 'row_id': 21, 'column_id': 7, 'value': 'Remove Day from DoB', 'type': 'str'}, {'sheet_name': 'Palette', 'row_id': 21, 'column_id': 8, 'value': 'case when Day([CellValue]) = 1 then 1 else 0 end', 'type': 'str'}, {'sheet_name': 'Palette', 'row_id': 22, 'column_id': 1, 'value': 'GreaterThanTen', 'type': 'str'}, {'sheet_name': 'Palette', 'row_id': 22, 'column_id': 2, 'value': 'Must be greater than ten', 'type': 'str'}, {'sheet_name': 'Palette', 'row_id': 22, 'column_id': 3, 'value': 'Greater than 10', 'type': 'str'}, {'sheet_name': 'Palette', 'row_id': 22, 'column_id': 4, 'value': 'Not Greater than 10', 'type': 'str'}, {'sheet_name': 'Palette', 'row_id': 22, 'column_id': 6, 'value': 'ToNumber([CellValue])>10', 'type': 'str'}, {'sheet_name': 'Palette', 'row_id': 22, 'column_id': 7, 'value': 'Enter Age Greater Than 10', 'type': 'str'}, {'sheet_name': 'Palette', 'row_id': 22, 'column_id': 8, 'value': 'case when TRY_CAST([CellValue] as INT)>10 then 1 else 0 end', 'type': 'str'}, {'sheet_name': 'Palette', 'row_id': 22, 'column_id': 9, 'value': \"np.where(dataset['CellValueAsNumber'] > 10, 1, 0)\", 'type': 'str'}, {'sheet_name': 'PickList', 'row_id': 1, 'column_id': 1, 'value': 'MaritalStatus', 'type': 'str'}, {'sheet_name': 'PickList', 'row_id': 1, 'column_id': 2, 'value': 'HomeLocation', 'type': 'str'}, {'sheet_name': 'PickList', 'row_id': 1, 'column_id': 3, 'value': 'Gender', 'type': 'str'}, {'sheet_name': 'PickList', 'row_id': 2, 'column_id': 1, 'value': 'Single', 'type': 'str'}, {'sheet_name': 'PickList', 'row_id': 2, 'column_id': 2, 'value': 'London', 'type': 'str'}, {'sheet_name': 'PickList', 'row_id': 2, 'column_id': 3, 'value': 'Male', 'type': 'str'}, {'sheet_name': 'PickList', 'row_id': 3, 'column_id': 1, 'value': 'Married', 'type': 'str'}, {'sheet_name': 'PickList', 'row_id': 3, 'column_id': 2, 'value': 'Liverpool', 'type': 'str'}, {'sheet_name': 'PickList', 'row_id': 3, 'column_id': 3, 'value': 'Female', 'type': 'str'}, {'sheet_name': 'MetaData', 'row_id': 1, 'column_id': 1, 'value': 'Database', 'type': 'str'}, {'sheet_name': 'MetaData', 'row_id': 1, 'column_id': 2, 'value': 'DataSetID', 'type': 'str'}, {'sheet_name': 'MetaData', 'row_id': 1, 'column_id': 3, 'value': 'Schema', 'type': 'str'}, {'sheet_name': 'MetaData', 'row_id': 1, 'column_id': 4, 'value': 'TableName', 'type': 'str'}, {'sheet_name': 'MetaData', 'row_id': 2, 'column_id': 1, 'value': 'data', 'type': 'str'}, {'sheet_name': 'MetaData', 'row_id': 2, 'column_id': 2, 'value': 'Ages', 'type': 'str'}, {'sheet_name': 'MetaData', 'row_id': 2, 'column_id': 3, 'value': 'raw', 'type': 'str'}, {'sheet_name': 'MetaData', 'row_id': 2, 'column_id': 4, 'value': 'Ages', 'type': 'str'}, {'sheet_name': 'MetaData', 'row_id': 3, 'column_id': 1, 'value': 'data', 'type': 'str'}, {'sheet_name': 'MetaData', 'row_id': 3, 'column_id': 2, 'value': 'Genders', 'type': 'str'}, {'sheet_name': 'MetaData', 'row_id': 3, 'column_id': 3, 'value': 'raw', 'type': 'str'}, {'sheet_name': 'MetaData', 'row_id': 3, 'column_id': 4, 'value': 'Genders', 'type': 'str'}, {'sheet_name': 'MetaData', 'row_id': 4, 'column_id': 1, 'value': 'data', 'type': 'str'}, {'sheet_name': 'MetaData', 'row_id': 4, 'column_id': 2, 'value': 'DoB', 'type': 'str'}, {'sheet_name': 'MetaData', 'row_id': 4, 'column_id': 3, 'value': 'raw', 'type': 'str'}, {'sheet_name': 'MetaData', 'row_id': 4, 'column_id': 4, 'value': 'DoB', 'type': 'str'}, {'sheet_name': 'MetaData', 'row_id': 5, 'column_id': 1, 'value': 'data', 'type': 'str'}, {'sheet_name': 'MetaData', 'row_id': 5, 'column_id': 2, 'value': 'MaritalStatus', 'type': 'str'}, {'sheet_name': 'MetaData', 'row_id': 5, 'column_id': 3, 'value': 'raw', 'type': 'str'}, {'sheet_name': 'MetaData', 'row_id': 5, 'column_id': 4, 'value': 'MaritalStatus', 'type': 'str'}, {'sheet_name': 'MetaData', 'row_id': 6, 'column_id': 1, 'value': 'data', 'type': 'str'}, {'sheet_name': 'MetaData', 'row_id': 6, 'column_id': 2, 'value': 'Department', 'type': 'str'}, {'sheet_name': 'MetaData', 'row_id': 6, 'column_id': 3, 'value': 'raw', 'type': 'str'}, {'sheet_name': 'MetaData', 'row_id': 6, 'column_id': 4, 'value': 'Department', 'type': 'str'}, {'sheet_name': 'MetaData', 'row_id': 7, 'column_id': 1, 'value': 'data', 'type': 'str'}, {'sheet_name': 'MetaData', 'row_id': 7, 'column_id': 2, 'value': 'Jobs', 'type': 'str'}, {'sheet_name': 'MetaData', 'row_id': 7, 'column_id': 3, 'value': 'raw', 'type': 'str'}, {'sheet_name': 'MetaData', 'row_id': 7, 'column_id': 4, 'value': 'Jobs', 'type': 'str'}, {'sheet_name': 'MetaData', 'row_id': 8, 'column_id': 1, 'value': 'data', 'type': 'str'}, {'sheet_name': 'MetaData', 'row_id': 8, 'column_id': 2, 'value': 'HomeLocation', 'type': 'str'}, {'sheet_name': 'MetaData', 'row_id': 8, 'column_id': 3, 'value': 'raw', 'type': 'str'}, {'sheet_name': 'MetaData', 'row_id': 8, 'column_id': 4, 'value': 'HomeLocation', 'type': 'str'}]\n"
     ]
    }
   ],
   "source": [
    "import openpyxl\n",
    "import json\n",
    "from openpyxl.utils.datetime import from_excel\n",
    "from datetime import datetime\n",
    "\n",
    "def is_date_format(cell):\n",
    "    \"\"\"Check if the cell is formatted as a date in Excel.\"\"\"\n",
    "    # Excel's date formats commonly contain 'd', 'y', or 'm'\n",
    "    if cell.number_format.lower().find('d') != -1 or \\\n",
    "       cell.number_format.lower().find('y') != -1 or \\\n",
    "       cell.number_format.lower().find('m') != -1:\n",
    "        return True\n",
    "    return False\n",
    "\n",
    "def excel_to_json(excel_file):\n",
    "    # Load the workbook\n",
    "    workbook = openpyxl.load_workbook(excel_file)#, data_only=True)\n",
    "    sheets_data = []\n",
    "\n",
    "    for sheet_name in workbook.sheetnames:\n",
    "        sheet = workbook[sheet_name]\n",
    "        sheet_cells = []\n",
    "        \n",
    "        # Store merged cells ranges\n",
    "        merged_cells_ranges = sheet.merged_cells.ranges\n",
    "        \n",
    "        # Iterate over rows in the sheet\n",
    "        for row in sheet.iter_rows(values_only=False):\n",
    "            for cell in row:\n",
    "                # Get the cell value and row/column IDs\n",
    "                cell_value = cell.value\n",
    "                row_id = cell.row\n",
    "                column_id = cell.column  # This gives the numeric index for the column (1, 2, 3, etc.)\n",
    "\n",
    "                # Check if the cell is part of a merged cell range\n",
    "                for merged_range in merged_cells_ranges:\n",
    "                    if cell.coordinate in merged_range:\n",
    "                        # Get the top-left cell value from the merged range\n",
    "                        top_left_cell = sheet[merged_range.min_row][merged_range.min_col - 1]\n",
    "                        cell_value = top_left_cell.value\n",
    "                        break\n",
    "\n",
    "\n",
    "                cell_type = str(type(cell_value).__name__)\n",
    "                \n",
    "                # Handle Excel's date serial numbers\n",
    "                if is_date_format(cell):\n",
    "                    try:\n",
    "                        # Try to convert the cell value to a date if it's a serial number\n",
    "                        if isinstance(cell_value, (int, float)):\n",
    "                            cell_value = from_excel(cell_value, cell.parent.epoch).isoformat()\n",
    "                            cell_type = \"datetime\"\n",
    "                        elif isinstance(cell_value, datetime):\n",
    "                            # Already a datetime object, convert to isoformat\n",
    "                            cell_value = cell_value.isoformat()\n",
    "                            cell_type = \"datetime\"\n",
    "                    except:\n",
    "                        pass  # In case it's not convertible, leave as-is\n",
    "                \n",
    "                # Ensure scientific notation is properly formatted\n",
    "                if isinstance(cell_value, float):\n",
    "                    cell_value = '{:.8e}'.format(cell_value) if 'e' in str(cell_value) else cell_value\n",
    "\n",
    "                # Append the cell data with row_id, column_id, value, and type\n",
    "                append_this = {\n",
    "                    \"sheet_name\" : sheet_name,\n",
    "                    \"row_id\": row_id,\n",
    "                    \"column_id\": column_id,\n",
    "                    \"value\": cell_value,\n",
    "                    \"type\": cell_type\n",
    "                }\n",
    "        \n",
    "                sheets_data.append(append_this)\n",
    "        return_data = []\n",
    "        for sd in sheets_data:\n",
    "            if sd['value'] != None:\n",
    "                return_data.append(sd)\n",
    "    \n",
    "    # Convert the data to a JSON string\n",
    "    return return_data\n",
    "\n",
    "# Example usage\n",
    "excel_file_path = 'Data.xlsx'\n",
    "json_result = excel_to_json(excel_file_path)\n",
    "\n",
    "# Print or use the JSON data as needed\n",
    "print(json_result)\n",
    "\n",
    "\n"
   ]
  },
  {
   "cell_type": "markdown",
   "metadata": {
    "colab_type": "text",
    "id": "eF7j_IEBgR0U"
   },
   "source": [
    "\n",
    "# Criteria for querying\n",
    "\n",
    "##city_criteria = 'New York'\n",
    "\n",
    "# Querying the list of dictionaries\n"
   ]
  },
  {
   "cell_type": "code",
   "execution_count": 54,
   "metadata": {},
   "outputs": [
    {
     "name": "stdout",
     "output_type": "stream",
     "text": [
      "['MaritalStatus', 'HomeLocation', 'Gender']\n"
     ]
    }
   ],
   "source": [
    "sheet_name = 'PickList'\n",
    "\n",
    "picklists = [ entry for entry in json_result \n",
    "    ## if entry['age'] == age_criteria and entry['city'] == city_criteria\n",
    "    if entry['sheet_name'] == sheet_name and entry['row_id'] == 1]\n",
    "\n",
    "keywords = [entry['value'] for entry in picklists]\n",
    "\n",
    "result = [ entry for entry in json_result \n",
    "    ## if entry['age'] == age_criteria and entry['city'] == city_criteria\n",
    "    if entry['sheet_name'] == sheet_name and entry['column_id'] == 1]\n",
    "\n",
    "print(keywords)\n"
   ]
  },
  {
   "cell_type": "markdown",
   "metadata": {
    "colab_type": "text",
    "id": "lChn_UkJZAk1"
   },
   "source": [
    "# Get Picklist Values"
   ]
  },
  {
   "cell_type": "markdown",
   "metadata": {
    "colab_type": "text",
    "id": "t5ghg_PvYeSH"
   },
   "source": [
    "Picklist are like a mini Master Data Management System\n",
    "\n",
    "They define the acceptable values for a partcular Field in Excel\n",
    "\n",
    "The challenge here was to check one column to a another column that contained a list.  I go there in the end."
   ]
  },
  {
   "cell_type": "code",
   "execution_count": null,
   "metadata": {
    "colab": {},
    "colab_type": "code",
    "id": "r0sO9VyetelZ"
   },
   "outputs": [],
   "source": [
    "PickListCells = pd.DataFrame()\n",
    "# This process uses the full cell database as the column headings are the Picklist Names\n",
    "PickListCells = fullcelldb[(fullcelldb['SheetName'] == 'PickList')].copy()\n",
    "# PickListCellsList = PickListCells.groupby('ColumnID')['CellValue'].apply(lambda group_series: group_series.tolist()).reset_index()\n",
    "\n",
    "PickListCellsList = PickListCells.groupby('ColumnID').agg({'CellValue':lambda x: list(x)})\n",
    "\n",
    "# these were odd, but glad I work them out, it is important to realise that these are operations on a number of rows, not just one\n",
    "# maybe it was the axis that made the difference!\n",
    "PickListCellsList['KeyWord'] = PickListCellsList.apply(lambda row : row['CellValue'][0], axis = 1)\n",
    "PickListCellsList['FormulaKeyWord'] = PickListCellsList.apply(lambda row : 'PickList', axis = 1)\n",
    "PickListCellsList['List'] = PickListCellsList.apply(lambda row : row['CellValue'][1:], axis = 1)\n",
    "# PickListCellsList['KeyWord'] = PickListCellsList['CellValue']\n",
    "#PickListCellsList= pd.DataFrame(PickListCellsList, columns=['KeyWord', 'List'])\n",
    "PickListCellsList = pd.DataFrame(PickListCellsList, columns=['KeyWord', 'FormulaKeyWord', 'List'])\n",
    "PickListCellsList.head()"
   ]
  },
  {
   "cell_type": "code",
   "execution_count": null,
   "metadata": {
    "colab": {},
    "colab_type": "code",
    "id": "6OG1yqBvV3m8"
   },
   "outputs": [],
   "source": [
    "# These were attempts at creating a suitable list for the function to check to\n",
    "\n",
    "# PickListCellsList['Result'] = PickListCellsList['KeyWord'].isin(PickListCellsList['List']).map({True: 0, False: 1})\n",
    "\n",
    "# PickListCellsList['Result'] = PickListCellsList['KeyWord'].str.contains('|'.join(PickListCellsList['List']))\n",
    "# PickListCellsList['Result'] = PickListCellsList['KeyWord'].str.contains('|'.join(x) for x in PickListCellsList['List'])\n",
    "# [\"\".join(x) for x in lst]\n",
    "# PickListCellsList['ListAsString'] = PickListCellsList['List'].str.join('-')\n",
    "# PickListCellsList['ListAsTuple'] = tuple(PickListCellsList['CellValue'])\n"
   ]
  },
  {
   "cell_type": "code",
   "execution_count": null,
   "metadata": {
    "colab": {},
    "colab_type": "code",
    "id": "94BawuhvSCe8"
   },
   "outputs": [],
   "source": [
    "#MyList = pd.DataFrame()\n",
    "#MyList =  PickListCellsList\n",
    "# still do not know why the following DOES NOT WORK!\n",
    "# MyList['Result'] = PickListCellsList['ListAsString'].isin(PickListCellsList['KeyWord'])\n",
    "\n",
    "# leaving this as a rememberance of the 6 hours spent on this!\n",
    "# MyList['Result1'] = PickListCellsList['KeyWord'].apply(lambda x: any(i in x for i in PickListCellsList['List']))\n",
    "# MyList['Result2'] = PickListCellsList['ListAsString'].str.contains(PickListCellsList['KeyWord'])\n",
    "# mask = df['A'].apply(lambda x: any(i in x for i in search_list))\n",
    "# PickListCellsList['Result2'] = PickListCellsList['ListAsTuple'].str.contains(PickListCellsList['KeyWord'])\n",
    "# PickListCellsList['Result2'] = PickListCellsList['KeyWord'].str.contains(tuple(PickListCellsList['List']))\n",
    "# PickListCellsList['ListAsTuple'].isin(PickListCellsList['KeyWord'])\n",
    "# MyList['Result2'] = PickListCellsList['List'].apply(lambda x: True if (PickListCellsList.KeyWord in x).any() else False)\n",
    "######### MyList['sing'] = 'Single'\n",
    "# MyList['res1'] = MyList.apply(lambda ts: any(ts == 'Single'), axis=1)\n",
    "# MyList['res2'] = MyList.apply(lambda ts: MyList['KeyWord'].str.contains('Single'), axis=1)\n",
    "######### MyList['res3'] = MyList.apply(lambda x: x['sing'] in x['ListAsTuple'], axis=1)  ###############\n",
    "######### MyList['res4'] = MyList.apply(lambda x: x['sing'] in x['List'], axis=1).map({True: 1, False: 0}) ###############\n",
    "# # # # dataset.apply(lambda x: x['CellValue'] in x['PickList'], axis=1).map({True: 1, False: 0})\n",
    "# data['Activity].str.contains('skin diving')\n",
    "# lambda x : True if (x > 10 and x < 20) else False\n",
    "#MyList.head()\n",
    "# https://stackoverflow.com/questions/48460234/pandas-apply-valueerror-the-truth-value-of-a-series-is-ambigous"
   ]
  },
  {
   "cell_type": "markdown",
   "metadata": {
    "colab_type": "text",
    "id": "x_awgfWUgAb2"
   },
   "source": [
    "# Get Data Map"
   ]
  },
  {
   "cell_type": "code",
   "execution_count": null,
   "metadata": {
    "colab": {},
    "colab_type": "code",
    "id": "5wSue_afTLJq"
   },
   "outputs": [],
   "source": [
    "DataMapCells = pd.DataFrame()\n",
    "DataMapCells = fullcelldb[(fullcelldb['SheetName'] == 'DataMap')].copy()\n",
    "DataMapCells.head()"
   ]
  },
  {
   "cell_type": "markdown",
   "metadata": {
    "colab_type": "text",
    "id": "zdWkGWSmL6ru"
   },
   "source": [
    "Below extracts a Sheet from the cell database and reshapes it to it original tabular form."
   ]
  },
  {
   "cell_type": "code",
   "execution_count": null,
   "metadata": {
    "colab": {},
    "colab_type": "code",
    "id": "oPSRDxU8t_Mc"
   },
   "outputs": [],
   "source": [
    "DataMap = pd.DataFrame()\n",
    "DataMap = DataMapCells.pivot_table(index = ['RowID'], values = 'CellValue',columns = 'ColumnID', aggfunc = 'max')\n",
    "ColumnHeadings = DataMap.iloc[0]\n",
    "ColumnHeadingsList = list(ColumnHeadings)\n",
    "print(ColumnHeadingsList)\n",
    "ColumnHeadingsListTuple = enumerate(ColumnHeadingsList,start=1)\n",
    "ColumnHeadingsListDict = dict(ColumnHeadingsListTuple)\n",
    "print(ColumnHeadingsListDict)\n",
    "DataMap = DataMap.rename(columns=ColumnHeadingsListDict)\n",
    "DataMap = DataMap.drop([1])\n",
    "DataMap.head()"
   ]
  },
  {
   "cell_type": "markdown",
   "metadata": {
    "colab_type": "text",
    "id": "8IH4GVrigMRd"
   },
   "source": [
    "# Make Rules Database"
   ]
  },
  {
   "cell_type": "code",
   "execution_count": null,
   "metadata": {
    "colab": {},
    "colab_type": "code",
    "id": "pJGHXeJwMdE7"
   },
   "outputs": [],
   "source": [
    "RulesDF.head()"
   ]
  },
  {
   "cell_type": "markdown",
   "metadata": {
    "colab_type": "text",
    "id": "2w0CkOgoMmRS"
   },
   "source": [
    "The above is the Rules definition sheet. It used KeyWords to define the checks.  Below forms a list of KeyWords that are relevant to a particular field in a DataSet"
   ]
  },
  {
   "cell_type": "code",
   "execution_count": null,
   "metadata": {
    "colab": {},
    "colab_type": "code",
    "id": "6Q_4gGPS9rtm"
   },
   "outputs": [],
   "source": [
    "rulesdb = pd.DataFrame()\n",
    "rulesdb = pd.melt(RulesDF, id_vars=['RuleID', 'DataSet', 'FieldID'])\n",
    "rulesdb = rulesdb.rename(columns={\"variable\": \"RuleType\", \"value\": \"KeyWord\"})\n",
    "rulesdb = rulesdb[rulesdb.KeyWord.notnull()]\n",
    "# df['A'] = df.apply(lambda x: x['B'] if x['A']==0 else x['A'], axis=1)\n",
    "# The following adds the KeyWord Null into the Rules list - if Null is N, this means Nulls are Not Allowed\n",
    "rulesdb['KeyWord'] = rulesdb.apply(lambda x: x['RuleType'] if x['KeyWord']=='N' else x['KeyWord'], axis=1)\n",
    "\n",
    "PickListCellsList\n",
    "\n",
    "rulesdb = pd.merge(rulesdb,PickListCellsList, on=['KeyWord'],how='left')\n",
    "\n",
    "rulesdb.head(5)"
   ]
  },
  {
   "cell_type": "markdown",
   "metadata": {
    "colab_type": "text",
    "id": "_BT3jBxRgmOX"
   },
   "source": [
    "# Add Code and Formulae to Rules Database"
   ]
  },
  {
   "cell_type": "markdown",
   "metadata": {
    "colab_type": "text",
    "id": "FjPsx40uNGbC"
   },
   "source": [
    "Palette defines the Rule Text and Rule Formula.  We have implemented rules on Alteryx, SQL, Python & Javascript"
   ]
  },
  {
   "cell_type": "code",
   "execution_count": null,
   "metadata": {
    "colab": {},
    "colab_type": "code",
    "id": "C5qzWLTy9uOh"
   },
   "outputs": [],
   "source": [
    "palette = pd.DataFrame()\n",
    "palette = pd.merge(DataSetDF, rulesdb, on=['FieldID', 'DataSet'])\n",
    "palette['KeyWord'] = rulesdb.apply(lambda x: x['FormulaKeyWord'] if x['FormulaKeyWord']=='PickList' else x['KeyWord'], axis=1)\n",
    "palette.head(5)"
   ]
  },
  {
   "cell_type": "code",
   "execution_count": null,
   "metadata": {
    "colab": {},
    "colab_type": "code",
    "id": "qKr38LQxP-19"
   },
   "outputs": [],
   "source": [
    "\n",
    "palette = pd.merge(palette, PaletteDF, on=['KeyWord'],how='left')\n"
   ]
  },
  {
   "cell_type": "code",
   "execution_count": null,
   "metadata": {
    "colab": {},
    "colab_type": "code",
    "id": "agn-y_XpjZQM"
   },
   "outputs": [],
   "source": [
    "palette.head(5)"
   ]
  },
  {
   "cell_type": "markdown",
   "metadata": {
    "colab_type": "text",
    "id": "qA4u066Zg0Mk"
   },
   "source": [
    "# Get Start Anchor Cells"
   ]
  },
  {
   "cell_type": "markdown",
   "metadata": {
    "colab_type": "text",
    "id": "c-Q7nZsaNliz"
   },
   "source": [
    "Start Anchors are where tables are mapped from, every dataset in the spreadsheet must be anchored to a uniquely identifiable cell in a particular sheet."
   ]
  },
  {
   "cell_type": "code",
   "execution_count": null,
   "metadata": {
    "colab": {},
    "colab_type": "code",
    "id": "yzZcf-vY9wpZ"
   },
   "outputs": [],
   "source": [
    "startanchors = pd.DataFrame()\n",
    "startanchors = pd.DataFrame(DataSetDF, columns=['DataSet', 'SheetName', 'ReferenceTextStart'])\n",
    "startanchors = startanchors.rename(columns={\"ReferenceTextStart\": \"CellValue\"})\n",
    "startanchors = startanchors.drop_duplicates()\n",
    "startanchors.head()\n"
   ]
  },
  {
   "cell_type": "markdown",
   "metadata": {
    "colab_type": "text",
    "id": "2sZQyqiuhDZc"
   },
   "source": [
    "# Get All End Anchor Cells"
   ]
  },
  {
   "cell_type": "markdown",
   "metadata": {
    "colab_type": "text",
    "id": "EEcTX6mKN6eA"
   },
   "source": [
    "End anchors are where a dataset finishes. Probably at the next Start Anchor.\n",
    "This does mean that blank rows are validated and one needs to filter these out later. "
   ]
  },
  {
   "cell_type": "code",
   "execution_count": null,
   "metadata": {
    "colab": {},
    "colab_type": "code",
    "id": "YcNpmVwGDvEm"
   },
   "outputs": [],
   "source": [
    "endanchors = pd.DataFrame()\n",
    "endanchors = pd.DataFrame(DataSetDF, columns=['DataSet', 'SheetName', 'ReferenceTextEnd'])\n",
    "endanchors = endanchors.rename(columns={\"ReferenceTextEnd\": \"CellValue\"})\n",
    "endanchors = endanchors.drop_duplicates()\n",
    "endanchors.head()"
   ]
  },
  {
   "cell_type": "markdown",
   "metadata": {
    "colab_type": "text",
    "id": "0if3QQALhaOq"
   },
   "source": [
    "# Find Start Anchors"
   ]
  },
  {
   "cell_type": "markdown",
   "metadata": {
    "colab_type": "text",
    "id": "tkT3RUFuOVh-"
   },
   "source": [
    "Now we look for the start and finish anchor cells for each dataset."
   ]
  },
  {
   "cell_type": "code",
   "execution_count": null,
   "metadata": {
    "colab": {},
    "colab_type": "code",
    "id": "_ZhaXHgY9732"
   },
   "outputs": [],
   "source": [
    "findstartanchors = pd.DataFrame()\n",
    "findstartanchors = pd.merge(startanchors, fullcelldfstage, on=['SheetName', 'CellValue'])\n",
    "findstartanchors = findstartanchors.rename(columns={\"RowID\": \"AnchorRow\", \"ColumnID\": \"AnchorColumn\"})\n",
    "findstartanchors = pd.DataFrame(findstartanchors, columns=['DataSet', 'SheetName', 'AnchorRow', 'AnchorColumn'])\n",
    "findstartanchors.head()"
   ]
  },
  {
   "cell_type": "markdown",
   "metadata": {
    "colab_type": "text",
    "id": "gyZbtquUhhvL"
   },
   "source": [
    "# Find End Anchors"
   ]
  },
  {
   "cell_type": "markdown",
   "metadata": {
    "colab_type": "text",
    "id": "-FAdPT1ZO2lC"
   },
   "source": [
    "Some datasets have no finish anchors as they are the last table in the sheet."
   ]
  },
  {
   "cell_type": "code",
   "execution_count": null,
   "metadata": {
    "colab": {},
    "colab_type": "code",
    "id": "PhHBF2ChEC0f"
   },
   "outputs": [],
   "source": [
    "findendanchors = pd.DataFrame()\n",
    "findendanchors = pd.merge(endanchors, fullcelldfstage, on=['SheetName', 'CellValue'])\n",
    "findendanchors = findendanchors.rename(columns={\"RowID\": \"EndRow\"})\n",
    "findendanchors = findendanchors[findendanchors.CellValue.notnull()]\n",
    "findendanchors = pd.DataFrame(findendanchors, columns=['DataSet', 'SheetName', 'EndRow'])\n",
    "findendanchors.head()\n"
   ]
  },
  {
   "cell_type": "markdown",
   "metadata": {
    "colab_type": "text",
    "id": "8mbxThrshpF1"
   },
   "source": [
    "# Join Anchors Together"
   ]
  },
  {
   "cell_type": "markdown",
   "metadata": {
    "colab_type": "text",
    "id": "eqq-eNb4PDY2"
   },
   "source": [
    "Join the anchors to allow them to be joined with the data table\n",
    "As stated above, some DataSets have NaN as the EndRow as there is no further data in the sheet"
   ]
  },
  {
   "cell_type": "code",
   "execution_count": null,
   "metadata": {
    "colab": {},
    "colab_type": "code",
    "id": "6E8J3-NIEFx1"
   },
   "outputs": [],
   "source": [
    "anchors = pd.DataFrame()\n",
    "anchors = pd.merge(findstartanchors, findendanchors, on=['DataSet', 'SheetName'], how='left')\n",
    "anchors.head()"
   ]
  },
  {
   "cell_type": "markdown",
   "metadata": {
    "colab_type": "text",
    "id": "caBieiT0hzvd"
   },
   "source": [
    "# Using Anchors and Dataset Create Map to Find Data"
   ]
  },
  {
   "cell_type": "markdown",
   "metadata": {
    "colab_type": "text",
    "id": "kzxw4ev-Pu3m"
   },
   "source": [
    "The DataSet defines where the DataSets can be found from the Start Anchor Cells\n",
    "The following joins the found cells with the DataSet map."
   ]
  },
  {
   "cell_type": "code",
   "execution_count": null,
   "metadata": {
    "colab": {},
    "colab_type": "code",
    "id": "VuxWXfJWEW3p"
   },
   "outputs": [],
   "source": [
    "datasetmap = pd.DataFrame()\n",
    "datasetmap = pd.merge(DataSetDF, anchors, on=['DataSet', 'SheetName'], how='left')\n",
    "datasetmap = pd.DataFrame(datasetmap,\n",
    "                          columns=['DataSet', 'SheetName', 'FieldID',\n",
    "                                   'AnchorRow', 'AnchorColumn','EndRow',\n",
    "                                   'RowFromReferenceText',\n",
    "                                   'ColumnFromReferenceText','FieldPosition'])\n"
   ]
  },
  {
   "cell_type": "markdown",
   "metadata": {
    "colab_type": "text",
    "id": "xZ8OPn7hiN9u"
   },
   "source": [
    "## Show Dataset Map"
   ]
  },
  {
   "cell_type": "code",
   "execution_count": null,
   "metadata": {
    "colab": {},
    "colab_type": "code",
    "id": "2naN6CoOiLaS"
   },
   "outputs": [],
   "source": [
    "datasetmap.head()"
   ]
  },
  {
   "cell_type": "markdown",
   "metadata": {
    "colab_type": "text",
    "id": "Hbu2bb7Did9L"
   },
   "source": [
    "# Find where Data Starts and what Columns Fields are In"
   ]
  },
  {
   "cell_type": "markdown",
   "metadata": {
    "colab_type": "text",
    "id": "vnrMNep_QL42"
   },
   "source": [
    "One needs to now calculate the actual rows and columns of where the DataSet is.\n",
    "The above table is relative to the Anchor Cells"
   ]
  },
  {
   "cell_type": "code",
   "execution_count": null,
   "metadata": {
    "colab": {},
    "colab_type": "code",
    "id": "lRIxlGL_-Dmj"
   },
   "outputs": [],
   "source": [
    "datasetmap['StartRow'] = datasetmap['AnchorRow'] + datasetmap['RowFromReferenceText']\n",
    "datasetmap['FieldColumn'] = datasetmap['AnchorColumn'] + datasetmap['ColumnFromReferenceText']\n",
    "dataset = pd.DataFrame()\n",
    "dataset = pd.merge(fullcelldfstage, datasetmap, on=['SheetName'], how='left')\n",
    "## the above may seem a cartesian join and may need to be looked at if this slows the process down"
   ]
  },
  {
   "cell_type": "markdown",
   "metadata": {
    "colab_type": "text",
    "id": "QmkyP0boiu0Q"
   },
   "source": [
    "# Filter Out Data after End Anchor Row"
   ]
  },
  {
   "cell_type": "code",
   "execution_count": null,
   "metadata": {
    "colab": {},
    "colab_type": "code",
    "id": "LGngEEjLQewC"
   },
   "outputs": [],
   "source": [
    "dataset = dataset[(dataset.RowID >= dataset.StartRow) &\n",
    "(dataset.ColumnID == dataset.FieldColumn) &\n",
    "((dataset.RowID < dataset.EndRow) | pd.isnull(dataset.EndRow))]\n",
    "# the | above is an OR as if there is no EndRow for the dataset you want to\n",
    "# allow the data through"
   ]
  },
  {
   "cell_type": "code",
   "execution_count": null,
   "metadata": {
    "colab": {},
    "colab_type": "code",
    "id": "gDXO67NGrRHe"
   },
   "outputs": [],
   "source": [
    "palette.head(5)"
   ]
  },
  {
   "cell_type": "markdown",
   "metadata": {
    "colab_type": "text",
    "id": "xKOG9aHgi8Pj"
   },
   "source": [
    "# Create a CellValue as Number for use in Formulae"
   ]
  },
  {
   "cell_type": "code",
   "execution_count": null,
   "metadata": {
    "colab": {},
    "colab_type": "code",
    "id": "PPgn6jcNEu_I"
   },
   "outputs": [],
   "source": [
    "dataset = pd.DataFrame(dataset,columns=['DataSet', 'SheetName', 'FieldID', 'RowID', 'ColumnID','CellValue', 'CellType'])\n",
    "dataset['CellValueAsNumber'] = pd.to_numeric(dataset['CellValue'], errors='coerce')\n",
    "dataset.head(5)"
   ]
  },
  {
   "cell_type": "markdown",
   "metadata": {
    "colab_type": "text",
    "id": "6aBvm7yzjNqw"
   },
   "source": [
    "# Create a List of Checks to do"
   ]
  },
  {
   "cell_type": "code",
   "execution_count": null,
   "metadata": {
    "colab": {},
    "colab_type": "code",
    "id": "wFszD5cR8H_7"
   },
   "outputs": [],
   "source": [
    "todolist = pd.DataFrame()\n",
    "todolist = pd.merge(dataset, palette, on=['DataSet', 'FieldID'])\n",
    "todolist.head(5)"
   ]
  },
  {
   "cell_type": "markdown",
   "metadata": {
    "colab_type": "text",
    "id": "wR-RHXokjaoG"
   },
   "source": [
    "# Create a List of distinct formula to apply"
   ]
  },
  {
   "cell_type": "code",
   "execution_count": null,
   "metadata": {
    "colab": {},
    "colab_type": "code",
    "id": "4mxczy-qINQv"
   },
   "outputs": [],
   "source": [
    "formulas = pd.DataFrame()\n",
    "formulas = pd.DataFrame(todolist, columns=['KeyWord','PythonFormula'])\n",
    "formulas = formulas.drop_duplicates()\n",
    "formulas.head(10)"
   ]
  },
  {
   "cell_type": "markdown",
   "metadata": {
    "colab_type": "text",
    "id": "AWxtq24ijmSo"
   },
   "source": [
    "# Prepare Results Table"
   ]
  },
  {
   "cell_type": "code",
   "execution_count": null,
   "metadata": {
    "colab": {},
    "colab_type": "code",
    "id": "enT7iwuL8Y6l"
   },
   "outputs": [],
   "source": [
    "global bigresults\n",
    "littletodolist = pd.DataFrame()\n",
    "littletodolistworking = pd.DataFrame()\n",
    "bigresults = pd.DataFrame()\n"
   ]
  },
  {
   "cell_type": "code",
   "execution_count": null,
   "metadata": {
    "colab": {},
    "colab_type": "code",
    "id": "ovWR4reTJYbB"
   },
   "outputs": [],
   "source": [
    "# this was an important test as if you do not have copy you get an error as it believes\n",
    "# you are trying to change a view\n",
    "#littletodolist = todolist[(todolist.KeyWord == 'PickList')].copy()\n",
    "#littletodolist.head(100)\n",
    "#filterdf = pd.DataFrame()\n",
    "#filterdf = todolist[(todolist.KeyWord == 'PickList')].copy()\n",
    "#filterdf.head()"
   ]
  },
  {
   "cell_type": "code",
   "execution_count": null,
   "metadata": {
    "colab": {},
    "colab_type": "code",
    "id": "W2Viik1bKFx2"
   },
   "outputs": [],
   "source": [
    "# littletodolist.loc[littletodolist.KeyWord == 'Text', 'Result'] = np.where(littletodolist['CellType'] == 'Text', 1, 0)"
   ]
  },
  {
   "cell_type": "markdown",
   "metadata": {
    "colab_type": "text",
    "id": "lmplCWV-kH6H"
   },
   "source": [
    "# Loop through each Formula and apply to the To Do List"
   ]
  },
  {
   "cell_type": "code",
   "execution_count": null,
   "metadata": {
    "colab": {},
    "colab_type": "code",
    "id": "f8L4NV-9P-2w"
   },
   "outputs": [],
   "source": [
    "todolist = todolist.rename(columns={'CellValue_x': 'CellValue'})\n",
    "##todolist.columns"
   ]
  },
  {
   "cell_type": "code",
   "execution_count": null,
   "metadata": {
    "colab": {},
    "colab_type": "code",
    "id": "1qIWlNZUFDBP"
   },
   "outputs": [],
   "source": [
    "for index, row in formulas.iterrows():\n",
    "  # print(row['KeyWord'],row['PythonFormula'])\n",
    "\n",
    "  pf = row['PythonFormula']\n",
    "  kw = row['KeyWord']\n",
    " \n",
    "  try:\n",
    "      pf1 = pf.replace(\"dataset\", \"littletodolist\")\n",
    "  except:\n",
    "      pf1 = \"1\"\n",
    "  littletodolist = todolist[(todolist.KeyWord == kw)].copy()\n",
    "  formula2do = \"littletodolist['Result'] = \" + pf1\n",
    "  print(kw)\n",
    "  print(formula2do)\n",
    "  exec(formula2do)\n",
    "  ##print(littletodolist)\n",
    "  ##try:\n",
    "  ##bigresults = pd.concat([bigresults, littletodolist], ignore_index=True).drop_duplicates().reset_index(drop=True)\n",
    "  bigresults = pd.concat([bigresults, littletodolist]) ##, ignore_index=True).drop_duplicates().reset_index(drop=True)\n",
    "  ##except:\n",
    "  #  bigresults = bigresults"
   ]
  },
  {
   "cell_type": "code",
   "execution_count": null,
   "metadata": {
    "colab": {},
    "colab_type": "code",
    "id": "JuZ4_YEMP-24"
   },
   "outputs": [],
   "source": [
    "littletodolist['Result'] = np.where(littletodolist['CellType'] == 'Text', 1, 0)"
   ]
  },
  {
   "cell_type": "markdown",
   "metadata": {
    "colab_type": "text",
    "id": "5ZW7-6-vkaXi"
   },
   "source": [
    "# Add a sequence to the Results for use in Reporting"
   ]
  },
  {
   "cell_type": "code",
   "execution_count": null,
   "metadata": {
    "colab": {},
    "colab_type": "code",
    "id": "-aG5EY7ygGeG"
   },
   "outputs": [],
   "source": [
    "bigresults['ResultID'] = bigresults.index"
   ]
  },
  {
   "cell_type": "code",
   "execution_count": null,
   "metadata": {
    "colab": {},
    "colab_type": "code",
    "id": "q4WPoT2MY7jP"
   },
   "outputs": [],
   "source": [
    "bigresults.head(5)"
   ]
  },
  {
   "cell_type": "markdown",
   "metadata": {
    "colab_type": "text",
    "id": "kbW0Ez8Ekme7"
   },
   "source": [
    "# Narrow down Results to useful columnns"
   ]
  },
  {
   "cell_type": "code",
   "execution_count": null,
   "metadata": {
    "colab": {},
    "colab_type": "code",
    "id": "11nWw0D2ZPHE"
   },
   "outputs": [],
   "source": [
    "usefulresults = pd.DataFrame()\n",
    "usefulresults = pd.DataFrame(bigresults, columns=['DataSet','FieldID','RowID','ColumnID','CellValue','CellType','CheckPerformed', 'Result'])\n",
    "usefulresults.head()"
   ]
  },
  {
   "cell_type": "markdown",
   "metadata": {
    "colab_type": "text",
    "id": "fo-KMY41k1sc"
   },
   "source": [
    "# Summarise Results"
   ]
  },
  {
   "cell_type": "code",
   "execution_count": null,
   "metadata": {
    "colab": {},
    "colab_type": "code",
    "id": "M64p5-e9acRg"
   },
   "outputs": [],
   "source": [
    "resultssummary = pd.DataFrame()\n",
    "# index = pd.MultiIndex.from_arrays(arrays, names=['first', 'second'])\n",
    "# resultssummary.head()\n",
    "\n",
    "resultssummary = bigresults[['DataSet','FieldID','CheckPerformed', 'Result', 'ResultID']].groupby(['DataSet', 'FieldID', 'CheckPerformed']).agg(['count'])\n",
    "resultssummary.head(5)"
   ]
  },
  {
   "cell_type": "markdown",
   "metadata": {
    "colab_type": "text",
    "id": "OL-ZYUKOk_cL"
   },
   "source": [
    "# Pivot Results"
   ]
  },
  {
   "cell_type": "code",
   "execution_count": null,
   "metadata": {
    "colab": {},
    "colab_type": "code",
    "id": "9Fdea1NEhYZD"
   },
   "outputs": [],
   "source": [
    "# rownamearray = pd.array(['DataSet','FieldID'], dtype=str)\n",
    "# newct = pd.crosstab(bigresults.DataSet,bigresults.FieldID,bigresults.CheckPerformed,bigresults.Result,rownames=rownamearray, colnames=['Result'])\n",
    "\n",
    "newct = bigresults.pivot_table(index = ['DataSet','FieldID','CheckPerformed'], values = 'ResultID',columns = 'Result', aggfunc = 'count')\n",
    "newct.head()"
   ]
  },
  {
   "cell_type": "markdown",
   "metadata": {
    "colab_type": "text",
    "id": "XFE1o7UrlFt1"
   },
   "source": [
    "# Plot Stack Bar"
   ]
  },
  {
   "cell_type": "markdown",
   "metadata": {
    "colab_type": "text",
    "id": "uG7YNRpnoOd9"
   },
   "source": [
    "## Show Stack"
   ]
  },
  {
   "cell_type": "code",
   "execution_count": null,
   "metadata": {
    "colab": {},
    "colab_type": "code",
    "id": "CzE4y5f5n_b4"
   },
   "outputs": [],
   "source": [
    "newct.plot(kind='barh', stacked=True)"
   ]
  },
  {
   "cell_type": "markdown",
   "metadata": {
    "colab_type": "text",
    "id": "wGi1BW3WJ7Rr"
   },
   "source": []
  },
  {
   "cell_type": "markdown",
   "metadata": {
    "colab_type": "text",
    "id": "fDyvSHkTJ2CZ"
   },
   "source": []
  }
 ],
 "metadata": {
  "colab": {
   "collapsed_sections": [
    "3p8PgjiP0_jY",
    "Bpj2hKhdnGID",
    "GS0NpiKjmlHl",
    "ynhtQQ2H1FgY",
    "gNHjUDxf1KwS",
    "cPktYeFX1Ujq",
    "lChn_UkJZAk1",
    "x_awgfWUgAb2",
    "8IH4GVrigMRd",
    "_BT3jBxRgmOX",
    "qA4u066Zg0Mk",
    "2sZQyqiuhDZc",
    "0if3QQALhaOq",
    "gyZbtquUhhvL",
    "8mbxThrshpF1",
    "xKOG9aHgi8Pj",
    "6aBvm7yzjNqw",
    "wR-RHXokjaoG",
    "AWxtq24ijmSo",
    "lmplCWV-kH6H",
    "5ZW7-6-vkaXi",
    "kbW0Ez8Ekme7",
    "fo-KMY41k1sc",
    "OL-ZYUKOk_cL"
   ],
   "include_colab_link": true,
   "name": "MiniConveyorWorking.ipynb",
   "provenance": [],
   "toc_visible": true
  },
  "kernelspec": {
   "display_name": "Python 3 (ipykernel)",
   "language": "python",
   "name": "python3"
  },
  "language_info": {
   "codemirror_mode": {
    "name": "ipython",
    "version": 3
   },
   "file_extension": ".py",
   "mimetype": "text/x-python",
   "name": "python",
   "nbconvert_exporter": "python",
   "pygments_lexer": "ipython3",
   "version": "3.12.4"
  },
  "widgets": {
   "application/vnd.jupyter.widget-state+json": {
    "31a86a572107479ca63346166131e13d": {
     "model_module": "@jupyter-widgets/controls",
     "model_name": "FileUploadModel",
     "state": {
      "_counter": 1,
      "_dom_classes": [],
      "_model_module": "@jupyter-widgets/controls",
      "_model_module_version": "1.5.0",
      "_model_name": "FileUploadModel",
      "_view_count": null,
      "_view_module": "@jupyter-widgets/controls",
      "_view_module_version": "1.5.0",
      "_view_name": "FileUploadView",
      "accept": "",
      "button_style": "",
      "data": [
       null
      ],
      "description": "Upload",
      "description_tooltip": null,
      "disabled": false,
      "error": "",
      "icon": "upload",
      "layout": "IPY_MODEL_cfb9ad1923ee4ec5b2e946977e9f543d",
      "metadata": [
       {
        "lastModified": 1592218755336,
        "name": "Data.xlsx",
        "size": 114138,
        "type": "application/vnd.openxmlformats-officedocument.spreadsheetml.sheet"
       }
      ],
      "multiple": false,
      "style": "IPY_MODEL_da81ffee312a4e138f0e240e185122bb"
     }
    },
    "cfb9ad1923ee4ec5b2e946977e9f543d": {
     "model_module": "@jupyter-widgets/base",
     "model_name": "LayoutModel",
     "state": {
      "_model_module": "@jupyter-widgets/base",
      "_model_module_version": "1.2.0",
      "_model_name": "LayoutModel",
      "_view_count": null,
      "_view_module": "@jupyter-widgets/base",
      "_view_module_version": "1.2.0",
      "_view_name": "LayoutView",
      "align_content": null,
      "align_items": null,
      "align_self": null,
      "border": null,
      "bottom": null,
      "display": null,
      "flex": null,
      "flex_flow": null,
      "grid_area": null,
      "grid_auto_columns": null,
      "grid_auto_flow": null,
      "grid_auto_rows": null,
      "grid_column": null,
      "grid_gap": null,
      "grid_row": null,
      "grid_template_areas": null,
      "grid_template_columns": null,
      "grid_template_rows": null,
      "height": null,
      "justify_content": null,
      "justify_items": null,
      "left": null,
      "margin": null,
      "max_height": null,
      "max_width": null,
      "min_height": null,
      "min_width": null,
      "object_fit": null,
      "object_position": null,
      "order": null,
      "overflow": null,
      "overflow_x": null,
      "overflow_y": null,
      "padding": null,
      "right": null,
      "top": null,
      "visibility": null,
      "width": null
     }
    },
    "da81ffee312a4e138f0e240e185122bb": {
     "model_module": "@jupyter-widgets/controls",
     "model_name": "ButtonStyleModel",
     "state": {
      "_model_module": "@jupyter-widgets/controls",
      "_model_module_version": "1.5.0",
      "_model_name": "ButtonStyleModel",
      "_view_count": null,
      "_view_module": "@jupyter-widgets/base",
      "_view_module_version": "1.2.0",
      "_view_name": "StyleView",
      "button_color": null,
      "font_weight": ""
     }
    }
   }
  }
 },
 "nbformat": 4,
 "nbformat_minor": 4
}
